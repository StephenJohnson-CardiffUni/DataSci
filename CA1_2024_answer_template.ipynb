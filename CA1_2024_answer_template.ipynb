{
  "cells": [
    {
      "cell_type": "markdown",
      "metadata": {
        "id": "aPA3L4iOL_-5"
      },
      "source": [
        "# Data Science - Coursework 1 (35%)\n",
        "\n",
        "***\n",
        "\n",
        "## Short Style Data Science Questions\n",
        "### Deadline Friday week 6, 2pm."
      ]
    },
    {
      "cell_type": "markdown",
      "metadata": {
        "id": "Unh-QKlcL__H"
      },
      "source": [
        "***"
      ]
    },
    {
      "cell_type": "markdown",
      "metadata": {
        "id": "vNPWaDJVL__N"
      },
      "source": [
        "## Instructions"
      ]
    },
    {
      "cell_type": "markdown",
      "metadata": {
        "id": "rSE7d6sdL__Q"
      },
      "source": [
        "This coursework assesses learning outcomes from **Chapters 1 - 5** of the course."
      ]
    },
    {
      "cell_type": "markdown",
      "metadata": {
        "id": "PznX5TuOL__R"
      },
      "source": [
        "**These assessments are equivalent to an exam**:\n",
        "- Submit your work via Turn-It-In on Learning Central. Note that you will need to upload your final notebook exported as a pdf. **Don't forget to execute all of your cells before you export the notebook to pdf**.\n",
        "- You can constantly resubmit your turnitin document until the deadline.\n",
        "- The breakdown of the assessment criteria is provided in Learning Central under Assessment.\n",
        "- Don't forget to include **all code** (including for calculations) - your work should be entirely reproducible.\n",
        "- Don't worry about how your code looks - marks are not given for pretty code, but rather for the approach used in solving the problem, your reasoning, explanation and answer.\n",
        "- It is estimated that the workload required for this CA is approximately 15-20 hours."
      ]
    },
    {
      "cell_type": "markdown",
      "metadata": {
        "id": "kXJEhjswL__V"
      },
      "source": [
        "<div class=\"alert-info\">\n",
        "Please also take note of the University’s policy on plagiarism, which is outlined in your student handbook.\n",
        " </div>"
      ]
    },
    {
      "cell_type": "markdown",
      "metadata": {
        "id": "Qgs--PI9L__d"
      },
      "source": [
        "Plagiarism is the act of passing off the words or ideas of others as if your own. Advice on avoiding plagiarism is given in the UG Student Handbook. There is also considerable help and advice on Learning Central and the University web site. Students need to be especially careful of plagiarism in computing tasks and you are advised not to share code through electronic means. Students working together during their weekly exercises and the coursework is great (and indeed encouraged) but need to ensure that they are not using each other's code or text.\n",
        "\n",
        "This coursework will be submitted via Learning Central's Turnitin which automatically checks for plagiarism."
      ]
    },
    {
      "cell_type": "markdown",
      "metadata": {
        "id": "wkyaBB_PL__v"
      },
      "source": [
        "***"
      ]
    },
    {
      "cell_type": "markdown",
      "metadata": {
        "id": "uJzgdTieL__0"
      },
      "source": [
        "## QUESTION 1"
      ]
    },
    {
      "cell_type": "markdown",
      "source": [
        "1.3 QUESTION 1\n",
        "\n",
        "A student is taking three modules, and the probability that they pass any individual module depends on the fraction of the weekly live sessions they attend\n",
        "𝑓\n",
        "f so that the probability of passing the module is\n",
        "0.85\n",
        "𝑓.\n",
        "\n",
        "a.) If the student attends all the weekly live sessions, (f=1), calculate the probability that they will\n",
        "(i) pass all three modules,\n",
        "(ii) fail one module and pass the other two,\n",
        "(iii) pass only one module,\n",
        "(iv) pass no modules.\n",
        "\n",
        "b.) Show that the sum of these four probabilities is 1.\n",
        "\n",
        "c.) Calculate the four probabilities on the assumption that the student attends only half of the weekly live sessions.\n",
        "\n",
        "d.) What fraction of weekly live sessions must the student attend to have a 50% chance of passing all three modules?\n",
        "\n",
        "e.) Is this a realistic way to model the probability that the student will pass the modules?"
      ],
      "metadata": {
        "id": "AFypG4_cHmfj"
      }
    },
    {
      "cell_type": "code",
      "source": [
        "def passfunc(f):\n",
        "  return f*0.85\n",
        "\n",
        "'''A)'''\n",
        "'''i)'''\n",
        "#for the probability of all 3 passes you would multiply the probability for a single pass by itself 3 times...\n",
        "allPass = passfunc(1) * passfunc(1) * passfunc(1)\n",
        "print(allPass)\n",
        "\n",
        "'''ii)'''\n",
        "#fail one module and pass the other 2 = pass*pass*(1-pass). 3 ways, fail module one two or three\n",
        "oneFail = 3 * (passfunc(1) * passfunc(1) * (1-passfunc(1)))\n",
        "print(oneFail)\n",
        "\n",
        "'''iii)'''\n",
        "#fail 2 modules, 3 ways\n",
        "twoFail = 3* (passfunc(1) * (1-passfunc(1)) * (1-passfunc(1)))\n",
        "print(twoFail)\n",
        "\n",
        "'''iv)'''\n",
        "#failAll\n",
        "allFail = (1-passfunc(1)) * (1-passfunc(1)) * (1-passfunc(1))\n",
        "print(allFail)\n",
        "\n",
        "'''B)'''\n",
        "\n",
        "#Add to one?\n",
        "print(allPass + oneFail + twoFail + allFail)"
      ],
      "metadata": {
        "id": "lSHBDxLEA26F",
        "outputId": "19d9aed3-78ae-4b28-d8f4-04652bd083e3",
        "colab": {
          "base_uri": "https://localhost:8080/"
        }
      },
      "execution_count": null,
      "outputs": [
        {
          "output_type": "stream",
          "name": "stdout",
          "text": [
            "0.6141249999999999\n",
            "0.325125\n",
            "0.05737500000000001\n",
            "0.0033750000000000013\n",
            "0.9999999999999999\n"
          ]
        }
      ]
    },
    {
      "cell_type": "code",
      "source": [
        "'''C)'''\n",
        "'''i)'''\n",
        "#for the probability of all 3 passes you would multiply the probability for a single pass by itself 3 times...\n",
        "allPassC = passfunc(0.5) * passfunc(0.5) * passfunc(0.5)\n",
        "print(allPassC)\n",
        "\n",
        "'''ii)'''\n",
        "#fail one module and pass the other 2 = pass*pass*(1-pass). 3 ways, fail module one two or three\n",
        "oneFailC = 3 * (passfunc(0.5) * passfunc(0.5) * (1-passfunc(0.5)))\n",
        "print(oneFailC)\n",
        "\n",
        "'''iii)'''\n",
        "#fail 2 modules, 3 ways\n",
        "twoFailC = 3* (passfunc(0.5) * (1-passfunc(0.5)) * (1-passfunc(0.5)))\n",
        "print(twoFailC)\n",
        "\n",
        "'''iv)'''\n",
        "#failAll\n",
        "allFailC = (1-passfunc(0.5)) * (1-passfunc(0.5)) * (1-passfunc(0.5))\n",
        "print(allFailC)\n",
        "\n",
        "#sanity check\n",
        "print(allPassC + oneFailC + twoFailC + allFailC)"
      ],
      "metadata": {
        "id": "SLODJEDNIl-2",
        "outputId": "3e42a869-2e92-4460-c924-973df34ced8d",
        "colab": {
          "base_uri": "https://localhost:8080/"
        }
      },
      "execution_count": null,
      "outputs": [
        {
          "output_type": "stream",
          "name": "stdout",
          "text": [
            "0.07676562499999999\n",
            "0.31157812499999993\n",
            "0.42154687499999993\n",
            "0.19010937499999994\n",
            "0.9999999999999998\n"
          ]
        }
      ]
    },
    {
      "cell_type": "code",
      "source": [
        "'''how to find 50% for all passes.. brute force seams easy but hacky (for incremental values, find the 50%)\n",
        "from P = (0.85f)**3\n",
        "P**1/3 = 0.85f\n",
        "f = (P**1/3)/0.85'''\n",
        "\n",
        "def inversePassFunc(P):\n",
        "  return (P**(1/3))/0.85\n",
        "\n",
        "print(inversePassFunc(0.5))"
      ],
      "metadata": {
        "id": "1fbS-0neJ7KB",
        "outputId": "8de99e1b-7882-4f2b-f571-597893e82eb4",
        "colab": {
          "base_uri": "https://localhost:8080/"
        }
      },
      "execution_count": null,
      "outputs": [
        {
          "output_type": "stream",
          "name": "stdout",
          "text": [
            "0.9337653246871762\n"
          ]
        }
      ]
    },
    {
      "cell_type": "code",
      "source": [
        "#sanity\n",
        "(passfunc(1)**3)**(1/3)/0.85"
      ],
      "metadata": {
        "id": "tc8JtWGFKtQJ",
        "outputId": "59509a02-ed5a-4e50-e3b7-47d16d19e286",
        "colab": {
          "base_uri": "https://localhost:8080/"
        }
      },
      "execution_count": null,
      "outputs": [
        {
          "output_type": "execute_result",
          "data": {
            "text/plain": [
              "1.0"
            ]
          },
          "metadata": {},
          "execution_count": 9
        }
      ]
    },
    {
      "cell_type": "code",
      "source": [
        "passfunc(0.9337653246871762)"
      ],
      "metadata": {
        "id": "6EfyyWqgMJAD",
        "outputId": "542dc059-2a7b-4aba-fa2a-d488213f5ba0",
        "colab": {
          "base_uri": "https://localhost:8080/"
        }
      },
      "execution_count": null,
      "outputs": [
        {
          "output_type": "execute_result",
          "data": {
            "text/plain": [
              "0.7937005259840998"
            ]
          },
          "metadata": {},
          "execution_count": 10
        }
      ]
    },
    {
      "cell_type": "markdown",
      "metadata": {
        "id": "0TC0agg4L__3"
      },
      "source": [
        "\n",
        "**[10 marks]**"
      ]
    },
    {
      "cell_type": "markdown",
      "metadata": {
        "id": "kf60zcK0L__4"
      },
      "source": [
        "Answer:"
      ]
    },
    {
      "cell_type": "markdown",
      "metadata": {
        "id": "bQNiHHkGL__4"
      },
      "source": [
        "***"
      ]
    },
    {
      "cell_type": "markdown",
      "metadata": {
        "id": "2w9KGMhoL__6"
      },
      "source": [
        "##  QUESTION 2"
      ]
    },
    {
      "cell_type": "markdown",
      "metadata": {
        "id": "K07k4Wf1L__7"
      },
      "source": [
        "**[20 marks]**"
      ]
    },
    {
      "cell_type": "markdown",
      "metadata": {
        "id": "FtMgW4LBL__8"
      },
      "source": [
        "Answer:"
      ]
    },
    {
      "cell_type": "markdown",
      "metadata": {
        "id": "lsQiV7zxL__8"
      },
      "source": [
        "***"
      ]
    },
    {
      "cell_type": "markdown",
      "metadata": {
        "id": "E4b5VtB2L__9"
      },
      "source": [
        "## QUESTION 3"
      ]
    },
    {
      "cell_type": "markdown",
      "metadata": {
        "id": "hVm43a3gL__9"
      },
      "source": [
        "**[15 marks]**"
      ]
    },
    {
      "cell_type": "markdown",
      "metadata": {
        "id": "MuHrFNeOL__-"
      },
      "source": [
        "Answer:"
      ]
    },
    {
      "cell_type": "markdown",
      "metadata": {
        "id": "UHN9hpQmL__-"
      },
      "source": [
        "***"
      ]
    },
    {
      "cell_type": "markdown",
      "metadata": {
        "id": "Kj0K8KC6L___"
      },
      "source": [
        "## QUESTION 4"
      ]
    },
    {
      "cell_type": "markdown",
      "metadata": {
        "id": "htV1eoSrL___"
      },
      "source": [
        "**[25 marks]**"
      ]
    },
    {
      "cell_type": "markdown",
      "metadata": {
        "id": "AsGinbx3MAAD"
      },
      "source": [
        "Answer:"
      ]
    },
    {
      "cell_type": "markdown",
      "metadata": {
        "id": "3bNFe4_7MAAE"
      },
      "source": [
        "***"
      ]
    },
    {
      "cell_type": "markdown",
      "metadata": {
        "id": "AG1cqwGxMAAE"
      },
      "source": [
        "## QUESTION 5"
      ]
    },
    {
      "cell_type": "markdown",
      "metadata": {
        "id": "D95Iv0pGMAAE"
      },
      "source": [
        "**[30 marks]**"
      ]
    },
    {
      "cell_type": "markdown",
      "metadata": {
        "id": "-MmKS_W_MAAF"
      },
      "source": [
        "Answer:"
      ]
    }
  ],
  "metadata": {
    "kernelspec": {
      "display_name": "Python 3 (ipykernel)",
      "language": "python",
      "name": "python3"
    },
    "language_info": {
      "codemirror_mode": {
        "name": "ipython",
        "version": 3
      },
      "file_extension": ".py",
      "mimetype": "text/x-python",
      "name": "python",
      "nbconvert_exporter": "python",
      "pygments_lexer": "ipython3",
      "version": "3.9.13"
    },
    "colab": {
      "provenance": []
    }
  },
  "nbformat": 4,
  "nbformat_minor": 0
}