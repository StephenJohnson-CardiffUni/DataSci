{
  "cells": [
    {
      "cell_type": "markdown",
      "metadata": {
        "id": "aPA3L4iOL_-5"
      },
      "source": [
        "# Data Science - Coursework 1 (35%)\n",
        "\n",
        "***\n",
        "\n",
        "## Short Style Data Science Questions\n",
        "### Deadline Friday week 6, 2pm."
      ]
    },
    {
      "cell_type": "markdown",
      "metadata": {
        "id": "Unh-QKlcL__H"
      },
      "source": [
        "***"
      ]
    },
    {
      "cell_type": "markdown",
      "metadata": {
        "id": "vNPWaDJVL__N"
      },
      "source": [
        "## Instructions"
      ]
    },
    {
      "cell_type": "markdown",
      "metadata": {
        "id": "rSE7d6sdL__Q"
      },
      "source": [
        "This coursework assesses learning outcomes from **Chapters 1 - 5** of the course."
      ]
    },
    {
      "cell_type": "markdown",
      "metadata": {
        "id": "PznX5TuOL__R"
      },
      "source": [
        "**These assessments are equivalent to an exam**:\n",
        "- Submit your work via Turn-It-In on Learning Central. Note that you will need to upload your final notebook exported as a pdf. **Don't forget to execute all of your cells before you export the notebook to pdf**.\n",
        "- You can constantly resubmit your turnitin document until the deadline.\n",
        "- The breakdown of the assessment criteria is provided in Learning Central under Assessment.\n",
        "- Don't forget to include **all code** (including for calculations) - your work should be entirely reproducible.\n",
        "- Don't worry about how your code looks - marks are not given for pretty code, but rather for the approach used in solving the problem, your reasoning, explanation and answer.\n",
        "- It is estimated that the workload required for this CA is approximately 15-20 hours."
      ]
    },
    {
      "cell_type": "markdown",
      "metadata": {
        "id": "kXJEhjswL__V"
      },
      "source": [
        "<div class=\"alert-info\">\n",
        "Please also take note of the University’s policy on plagiarism, which is outlined in your student handbook.\n",
        " </div>"
      ]
    },
    {
      "cell_type": "markdown",
      "metadata": {
        "id": "Qgs--PI9L__d"
      },
      "source": [
        "Plagiarism is the act of passing off the words or ideas of others as if your own. Advice on avoiding plagiarism is given in the UG Student Handbook. There is also considerable help and advice on Learning Central and the University web site. Students need to be especially careful of plagiarism in computing tasks and you are advised not to share code through electronic means. Students working together during their weekly exercises and the coursework is great (and indeed encouraged) but need to ensure that they are not using each other's code or text.\n",
        "\n",
        "This coursework will be submitted via Learning Central's Turnitin which automatically checks for plagiarism."
      ]
    },
    {
      "cell_type": "markdown",
      "metadata": {
        "id": "wkyaBB_PL__v"
      },
      "source": [
        "***"
      ]
    },
    {
      "cell_type": "markdown",
      "metadata": {
        "id": "uJzgdTieL__0"
      },
      "source": [
        "## QUESTION 1"
      ]
    },
    {
      "cell_type": "markdown",
      "source": [
        "1.3 QUESTION 1\n",
        "\n",
        "A student is taking three modules, and the probability that they pass any individual module depends on the fraction of the weekly live sessions they attend\n",
        "𝑓\n",
        "f so that the probability of passing the module is\n",
        "0.85\n",
        "𝑓.\n",
        "\n",
        "a.) If the student attends all the weekly live sessions, (f=1), calculate the probability that they will\n",
        "(i) pass all three modules,\n",
        "(ii) fail one module and pass the other two,\n",
        "(iii) pass only one module,\n",
        "(iv) pass no modules.\n",
        "\n",
        "b.) Show that the sum of these four probabilities is 1.\n",
        "\n",
        "c.) Calculate the four probabilities on the assumption that the student attends only half of the weekly live sessions.\n",
        "\n",
        "d.) What fraction of weekly live sessions must the student attend to have a 50% chance of passing all three modules?\n",
        "\n",
        "e.) Is this a realistic way to model the probability that the student will pass the modules?"
      ],
      "metadata": {
        "id": "AFypG4_cHmfj"
      }
    },
    {
      "cell_type": "markdown",
      "metadata": {
        "id": "0TC0agg4L__3"
      },
      "source": [
        "\n",
        "**[10 marks]**"
      ]
    },
    {
      "cell_type": "markdown",
      "metadata": {
        "id": "kf60zcK0L__4"
      },
      "source": [
        "Answer:"
      ]
    },
    {
      "cell_type": "code",
      "source": [
        "def passfunc(f):\n",
        "  return f*0.85\n",
        "\n",
        "'''A)'''\n",
        "'''i)'''\n",
        "#for the probability of all 3 passes you would multiply the probability for a single pass by itself 3 times...\n",
        "allPassA = passfunc(1) * passfunc(1) * passfunc(1)\n",
        "print(f\"{allPassA:.3f}\")\n",
        "\n",
        "'''ii)'''\n",
        "#fail one module and pass the other 2 = pass*pass*(1-pass). 3 ways, fail module one two or three\n",
        "oneFailA = 3 * (passfunc(1) * passfunc(1) * (1-passfunc(1)))\n",
        "print(f\"{oneFailA:.3f}\")\n",
        "\n",
        "'''iii)'''\n",
        "#fail 2 modules, 3 ways\n",
        "twoFailA = 3* (passfunc(1) * (1-passfunc(1)) * (1-passfunc(1)))\n",
        "print(f\"{twoFailA:.3f}\")\n",
        "\n",
        "'''iv)'''\n",
        "#failAll\n",
        "allFailA = (1-passfunc(1)) * (1-passfunc(1)) * (1-passfunc(1))\n",
        "print(f\"{allFailA:.3f}\")\n",
        "\n",
        "'''B)'''\n",
        "\n",
        "#Add to one?\n",
        "print(f\"{allPassA + oneFailA + twoFailA + allFailA:.3f}\")"
      ],
      "metadata": {
        "id": "lSHBDxLEA26F",
        "outputId": "7af03c46-744c-4b8a-cea0-8d8a3c8baec9",
        "colab": {
          "base_uri": "https://localhost:8080/"
        }
      },
      "execution_count": 15,
      "outputs": [
        {
          "output_type": "stream",
          "name": "stdout",
          "text": [
            "0.614\n",
            "0.325\n",
            "0.057\n",
            "0.003\n",
            "1.000\n"
          ]
        }
      ]
    },
    {
      "cell_type": "code",
      "source": [
        "'''C)'''\n",
        "# These are yes/no, or in this case Pass/NoPass, results. Having a fixed probability within a set number of trials/tests.\n",
        "# We can also model these calculations using binomial statstics.\n",
        "\n",
        "import math\n",
        "\n",
        "def Binomial(n, k, p):\n",
        "    # n: number of trials, k: successes , p: probability of a single event\n",
        "    return math.comb(n, k) * (p**k) * ((1-p)**(n-k))\n",
        "\n",
        "p = passfunc(0.5)\n",
        "\n",
        "n = 3 # number of tests\n",
        "\n",
        "\n",
        "'''i)'''\n",
        "#for the probability of all 3 passes...\n",
        "allPassC = Binomial(n, 3, p)\n",
        "print(f\"All Pass: {allPassC:.3f}\")\n",
        "\n",
        "'''ii)'''\n",
        "#fail one module and pass the other 2\n",
        "oneFailC = Binomial(n, 2, p)\n",
        "print(f\"One Fail: {oneFailC:.3f}\")\n",
        "\n",
        "'''iii)'''\n",
        "#fail 2 modules\n",
        "twoFailC = Binomial(n, 1, p)\n",
        "print(f\"Two Fail: {twoFailC:.3f}\")\n",
        "\n",
        "'''iv)'''\n",
        "#failAll\n",
        "allFailC = Binomial(n, 0, p)\n",
        "print(f\"All Fail: {allFailC:.3f}\")\n",
        "\n",
        "#sanity check\n",
        "print(f\"{allPassC + oneFailC + twoFailC + allFailC:.3f}\")"
      ],
      "metadata": {
        "id": "SLODJEDNIl-2",
        "outputId": "4cc64b6e-4781-4bd0-c607-371dd3e1cdb5",
        "colab": {
          "base_uri": "https://localhost:8080/"
        }
      },
      "execution_count": 16,
      "outputs": [
        {
          "output_type": "stream",
          "name": "stdout",
          "text": [
            "All Pass: 0.077\n",
            "One Fail: 0.312\n",
            "Two Fail: 0.422\n",
            "All Fail: 0.190\n",
            "1.000\n"
          ]
        }
      ]
    },
    {
      "cell_type": "code",
      "source": [
        "'''how to find 50% for all passes.. brute force seams easy but hacky (for incremental values, find the 50%)\n",
        "from P = (0.85f)**3\n",
        "P**1/3 = 0.85f\n",
        "f = (P**1/3)/0.85'''\n",
        "\n",
        "def inversePassFunc(P):\n",
        "  return (P**(1/3))/0.85\n",
        "\n",
        "print(f\"{inversePassFunc(0.5):.3f}\")"
      ],
      "metadata": {
        "id": "1fbS-0neJ7KB",
        "outputId": "0ff71e7e-262a-41be-b51b-0aaee5de6dfd",
        "colab": {
          "base_uri": "https://localhost:8080/"
        }
      },
      "execution_count": 17,
      "outputs": [
        {
          "output_type": "stream",
          "name": "stdout",
          "text": [
            "0.934\n"
          ]
        }
      ]
    },
    {
      "cell_type": "code",
      "source": [
        "#sanity\n",
        "print(f\"{passfunc(0.934)**3:.3f}\")"
      ],
      "metadata": {
        "id": "tc8JtWGFKtQJ",
        "outputId": "bd3d9102-bb0d-4963-bf24-2804cadfb45e",
        "colab": {
          "base_uri": "https://localhost:8080/"
        }
      },
      "execution_count": 18,
      "outputs": [
        {
          "output_type": "stream",
          "name": "stdout",
          "text": [
            "0.500\n"
          ]
        }
      ]
    },
    {
      "cell_type": "markdown",
      "metadata": {
        "id": "bQNiHHkGL__4"
      },
      "source": [
        "***"
      ]
    },
    {
      "cell_type": "markdown",
      "metadata": {
        "id": "2w9KGMhoL__6"
      },
      "source": [
        "##  QUESTION 2"
      ]
    },
    {
      "cell_type": "markdown",
      "metadata": {
        "id": "K07k4Wf1L__7"
      },
      "source": [
        "**[20 marks]**"
      ]
    },
    {
      "cell_type": "markdown",
      "metadata": {
        "id": "FtMgW4LBL__8"
      },
      "source": [
        "Answer:"
      ]
    },
    {
      "cell_type": "markdown",
      "source": [
        "I will be using the Binomial distribution to analise the patient data, as it is a collection of yes no results, using the function defined in Q1. Using it to examine the probability of achiving 7 possitive results out of 7 trials.\n",
        "\n",
        "To compare the new trial with the old, we state a null hypothesis:\n",
        "\n",
        "The outcome of a trial with the new marker (M23) would have the same probability distribution as any trial undertaken with the old marker (D3).\n",
        "\n",
        "To test this null hypothesis we can calculate the probability of getting 7/7 successes with an assumption that the single success probability was 0.65. The same as D3's probability of success, in line with the null hypothesis.\n"
      ],
      "metadata": {
        "id": "C0q2HCfNkqAv"
      }
    },
    {
      "cell_type": "code",
      "source": [
        "'''Binomial,\n",
        "\n",
        "N=7, Theta =0.65 (same as D3, null hyp is that they are the same), Nu = 7(all successes)\n",
        "\n",
        "using my function from Q1'''\n",
        "\n",
        "\n",
        "print(f\"{Binomial(7, 7, 0.65):.3f}\")"
      ],
      "metadata": {
        "id": "id_9OQr2lMwm",
        "outputId": "214aabde-1eb6-404c-b2ad-f02eeb7890ab",
        "colab": {
          "base_uri": "https://localhost:8080/"
        }
      },
      "execution_count": 19,
      "outputs": [
        {
          "output_type": "stream",
          "name": "stdout",
          "text": [
            "0.049\n"
          ]
        }
      ]
    },
    {
      "cell_type": "markdown",
      "source": [
        "The calculation (code above) yielded a probability of 0.049. The standard threshold to reject a null hypothesis is to have a p < 0.05. Therefore, with a note to how close to the threshold we are, we can reject the null hypothesis and based on these results support M23 as a better marker for the disease than D3."
      ],
      "metadata": {
        "id": "DNO0hq6RvfRx"
      }
    },
    {
      "cell_type": "code",
      "source": [
        "'''Plot Distribution'''\n",
        "import matplotlib.pyplot as plt\n",
        "\n",
        "successes = [0,1,2,3,4,5,6,7]\n",
        "probabilities = [Binomial(7,k,0.65) for k in successes]\n",
        "\n",
        "plt.bar(successes, probabilities)\n",
        "plt.axhline(y=0.05, color='r', linestyle=':', label='Rejection Threshold')\n",
        "plt.xlabel('Number of successes')\n",
        "plt.ylabel('Probability')\n",
        "plt.title('Probabilities of X/7 successes')\n",
        "plt.legend()\n",
        "plt.show()"
      ],
      "metadata": {
        "id": "OH8B8aCh0YKk",
        "outputId": "a8a1d127-e29f-412d-9df9-1e7d03f0f4c2",
        "colab": {
          "base_uri": "https://localhost:8080/",
          "height": 472
        }
      },
      "execution_count": 20,
      "outputs": [
        {
          "output_type": "display_data",
          "data": {
            "text/plain": [
              "<Figure size 640x480 with 1 Axes>"
            ],
            "image/png": "[encoded data removed]"
          },
          "metadata": {}
        }
      ]
    },
    {
      "cell_type": "markdown",
      "metadata": {
        "id": "lsQiV7zxL__8"
      },
      "source": [
        "***"
      ]
    },
    {
      "cell_type": "markdown",
      "metadata": {
        "id": "E4b5VtB2L__9"
      },
      "source": [
        "## QUESTION 3"
      ]
    },
    {
      "cell_type": "markdown",
      "source": [
        "A computer chip manufacturer suspects that roughly half of its latest batch of CPUs contains a flaw. The accounts department are clearly concerned, and are trying to predict how the fault will affect the number of customers returning products. How many CPUs from the batch would they need to examine to know the probability that any given CPU is faulty to better than 2.5%?"
      ],
      "metadata": {
        "id": "35APW8moMkU5"
      }
    },
    {
      "cell_type": "markdown",
      "metadata": {
        "id": "hVm43a3gL__9"
      },
      "source": [
        "**[15 marks]**"
      ]
    },
    {
      "cell_type": "markdown",
      "metadata": {
        "id": "MuHrFNeOL__-"
      },
      "source": [
        "Answer:"
      ]
    },
    {
      "cell_type": "markdown",
      "source": [
        "As we sample from a large population N (the entire batch of microchips) we can expect the central limit theorm to come into play.\n",
        "Our sample mean will be a distance away from the true population mean by a multiple of the Standard error.\n",
        "The margin of error is that distance.\n",
        "\n",
        "MOE = z * SE\n",
        "\n",
        "The standard error is\n",
        "\n",
        "SE = squreroot(sigma_x / sqrt(n))\n",
        "\n",
        "As this is a collection of yes/no we can use the Bernoulli distribution give us a variance of P(1-P), leading to a new SE of\n",
        "\n",
        "SE = squreroot( P(1-P) / n )\n",
        "\n",
        "here we can use sample size as n, to aproximate standard error, as well as assume a required confidence interval of 95%, equating to 1.9 sigma\n",
        "\n",
        "From the question we know the accounts department would like the margin of error to be lower than 2.5%, or a fraction of 0.025. And the suspected probability for chips with faults is 0.5\n",
        "\n",
        "MOE = z * squreroot( P(1-P) / n )\n",
        "\n",
        "We can arrange this for n\n",
        "\n",
        "n = (z^2 * P(1-P)) / MOE^2\n",
        "\n",
        "n  = (1.9^2 * 0.5(1-0.5)) / 0.025^2\n",
        "\n",
        "n = 1444\n",
        "\n",
        "\n"
      ],
      "metadata": {
        "id": "Vm3faczeXM_o"
      }
    },
    {
      "cell_type": "code",
      "source": [
        "def moe(n, z, P):\n",
        "  return z * math.sqrt(P*(1-P)/n)\n",
        "\n",
        "numbers = range(1,500000,100)\n",
        "allMoes = []\n",
        "\n",
        "tightNumbers = range(1400,1500,1)\n",
        "tightMoes = []\n",
        "\n",
        "for n in numbers:\n",
        "  allMoes.append(moe(n,1.9,0.5))\n",
        "for n in tightNumbers:\n",
        "  tightMoes.append(moe(n,1.9,0.5))\n",
        "\n",
        "allMoes = np.array(allMoes)\n",
        "tightMoes = np.array(tightMoes)\n",
        "\n",
        "\n",
        "plt.plot(numbers,allMoes)\n",
        "plt.plot(tightNumbers,tightMoes)\n",
        "plt.figure()\n",
        "plt.plot(tightNumbers,tightMoes)\n",
        "\n",
        "\n",
        "# answerIndex = np.where(tightMoes == 0.025) #too exact\n",
        "closest_index = np.argmin(np.abs(tightMoes - 0.025)) #ChatGPT special here\n",
        "print(tightNumbers[closest_index])\n",
        "\n"
      ],
      "metadata": {
        "collapsed": true,
        "id": "XwO0IbVUwNoI"
      },
      "execution_count": null,
      "outputs": []
    },
    {
      "cell_type": "code",
      "source": [],
      "metadata": {
        "id": "lW4qWAfDBUT1",
        "outputId": "0f0efdff-6964-4350-ce5e-59a2a87f83e1",
        "colab": {
          "base_uri": "https://localhost:8080/"
        }
      },
      "execution_count": 71,
      "outputs": [
        {
          "output_type": "execute_result",
          "data": {
            "text/plain": [
              "0.95"
            ]
          },
          "metadata": {},
          "execution_count": 71
        }
      ]
    },
    {
      "cell_type": "markdown",
      "metadata": {
        "id": "UHN9hpQmL__-"
      },
      "source": [
        "***"
      ]
    },
    {
      "cell_type": "markdown",
      "metadata": {
        "id": "Kj0K8KC6L___"
      },
      "source": [
        "## QUESTION 4"
      ]
    },
    {
      "cell_type": "markdown",
      "metadata": {
        "id": "htV1eoSrL___"
      },
      "source": [
        "**[25 marks]**"
      ]
    },
    {
      "cell_type": "code",
      "source": [
        "'''  P(A|B) = P(B|A) * P(A) / P(B)\n",
        "\n",
        "P(A|B) = Deomcrat given opposed\n",
        "P(B|A) = opposed given Demo (0.2)\n",
        "P(A) = Demo (0.4)\n",
        "P(B) = Opposed ((demo * demo opp) + (repub * repOpp) + (indi * indi Opp)) ((0.4*0.2)+(0.36*0.65)+(0.24*0.9))\n",
        "'''\n",
        "\n",
        "PAB = 0.2 * 0.4 / ((0.4*0.2)+(0.36*0.65)+(0.24*0.9))\n",
        "\n",
        "print(f\"{PAB:.3f}\")"
      ],
      "metadata": {
        "id": "BLT4Kaqq_ZNe",
        "colab": {
          "base_uri": "https://localhost:8080/"
        },
        "outputId": "f07f782e-5267-4d86-bf12-2f5561aa527f"
      },
      "execution_count": 23,
      "outputs": [
        {
          "output_type": "stream",
          "name": "stdout",
          "text": [
            "0.151\n"
          ]
        }
      ]
    },
    {
      "cell_type": "markdown",
      "metadata": {
        "id": "AsGinbx3MAAD"
      },
      "source": [
        "Answer:"
      ]
    },
    {
      "cell_type": "markdown",
      "source": [
        "The probability of the police officer being a Democrat voter is 15%"
      ],
      "metadata": {
        "id": "-Hvf5ngeEkIl"
      }
    },
    {
      "cell_type": "markdown",
      "metadata": {
        "id": "3bNFe4_7MAAE"
      },
      "source": [
        "***"
      ]
    },
    {
      "cell_type": "markdown",
      "metadata": {
        "id": "AG1cqwGxMAAE"
      },
      "source": [
        "## QUESTION 5"
      ]
    },
    {
      "cell_type": "code",
      "source": [
        "import numpy as np\n",
        "\n",
        "\n",
        "m100 = np.array([11,12,12,13,13,15,11,16,11,12])\n",
        "m1500 = np.array([270,300,230,260,270,230,260,240,270,260])\n",
        "MemberNumber = range(1,11,1)\n",
        "\n",
        "plt.plot(m100,m1500,\"b.\")\n",
        "plt.figure()\n",
        "\n",
        "plt.plot(MemberNumber,m1500)\n",
        "\n",
        "plt.plot(MemberNumber,m100)\n",
        "plt.figure()\n",
        "\n"
      ],
      "metadata": {
        "colab": {
          "base_uri": "https://localhost:8080/",
          "height": 878
        },
        "id": "ftpw_-zNFu_V",
        "outputId": "8b8be64a-0bcf-4d06-9e3e-579870d70f7a"
      },
      "execution_count": 24,
      "outputs": [
        {
          "output_type": "execute_result",
          "data": {
            "text/plain": [
              "<Figure size 640x480 with 0 Axes>"
            ]
          },
          "metadata": {},
          "execution_count": 24
        },
        {
          "output_type": "display_data",
          "data": {
            "text/plain": [
              "<Figure size 640x480 with 1 Axes>"
            ],
            "image/png": "[encoded data removed]"
          },
          "metadata": {}
        },
        {
          "output_type": "display_data",
          "data": {
            "text/plain": [
              "<Figure size 640x480 with 1 Axes>"
            ],
            "image/png": "[encoded data removed]"
          },
          "metadata": {}
        },
        {
          "output_type": "display_data",
          "data": {
            "text/plain": [
              "<Figure size 640x480 with 0 Axes>"
            ]
          },
          "metadata": {}
        }
      ]
    },
    {
      "cell_type": "code",
      "source": [],
      "metadata": {
        "id": "tT06syVDIVr2"
      },
      "execution_count": 24,
      "outputs": []
    },
    {
      "cell_type": "markdown",
      "metadata": {
        "id": "D95Iv0pGMAAE"
      },
      "source": [
        "**[30 marks]**"
      ]
    },
    {
      "cell_type": "markdown",
      "metadata": {
        "id": "-MmKS_W_MAAF"
      },
      "source": [
        "Answer:"
      ]
    }
  ],
  "metadata": {
    "kernelspec": {
      "display_name": "Python 3 (ipykernel)",
      "language": "python",
      "name": "python3"
    },
    "language_info": {
      "codemirror_mode": {
        "name": "ipython",
        "version": 3
      },
      "file_extension": ".py",
      "mimetype": "text/x-python",
      "name": "python",
      "nbconvert_exporter": "python",
      "pygments_lexer": "ipython3",
      "version": "3.9.13"
    },
    "colab": {
      "provenance": []
    }
  },
  "nbformat": 4,
  "nbformat_minor": 0
}