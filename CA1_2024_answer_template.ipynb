{
  "cells": [
    {
      "cell_type": "markdown",
      "metadata": {
        "id": "aPA3L4iOL_-5"
      },
      "source": [
        "# Data Science - Coursework 1 (35%)\n",
        "\n",
        "***\n",
        "\n",
        "## Short Style Data Science Questions\n",
        "### Deadline Friday week 6, 2pm."
      ]
    },
    {
      "cell_type": "markdown",
      "metadata": {
        "id": "Unh-QKlcL__H"
      },
      "source": [
        "***"
      ]
    },
    {
      "cell_type": "markdown",
      "metadata": {
        "id": "vNPWaDJVL__N"
      },
      "source": [
        "## Instructions"
      ]
    },
    {
      "cell_type": "markdown",
      "metadata": {
        "id": "rSE7d6sdL__Q"
      },
      "source": [
        "This coursework assesses learning outcomes from **Chapters 1 - 5** of the course."
      ]
    },
    {
      "cell_type": "markdown",
      "metadata": {
        "id": "PznX5TuOL__R"
      },
      "source": [
        "**These assessments are equivalent to an exam**:\n",
        "- Submit your work via Turn-It-In on Learning Central. Note that you will need to upload your final notebook exported as a pdf. **Don't forget to execute all of your cells before you export the notebook to pdf**.\n",
        "- You can constantly resubmit your turnitin document until the deadline.\n",
        "- The breakdown of the assessment criteria is provided in Learning Central under Assessment.\n",
        "- Don't forget to include **all code** (including for calculations) - your work should be entirely reproducible.\n",
        "- Don't worry about how your code looks - marks are not given for pretty code, but rather for the approach used in solving the problem, your reasoning, explanation and answer.\n",
        "- It is estimated that the workload required for this CA is approximately 15-20 hours."
      ]
    },
    {
      "cell_type": "markdown",
      "metadata": {
        "id": "kXJEhjswL__V"
      },
      "source": [
        "<div class=\"alert-info\">\n",
        "Please also take note of the University’s policy on plagiarism, which is outlined in your student handbook.\n",
        " </div>"
      ]
    },
    {
      "cell_type": "markdown",
      "metadata": {
        "id": "Qgs--PI9L__d"
      },
      "source": [
        "Plagiarism is the act of passing off the words or ideas of others as if your own. Advice on avoiding plagiarism is given in the UG Student Handbook. There is also considerable help and advice on Learning Central and the University web site. Students need to be especially careful of plagiarism in computing tasks and you are advised not to share code through electronic means. Students working together during their weekly exercises and the coursework is great (and indeed encouraged) but need to ensure that they are not using each other's code or text.\n",
        "\n",
        "This coursework will be submitted via Learning Central's Turnitin which automatically checks for plagiarism."
      ]
    },
    {
      "cell_type": "markdown",
      "metadata": {
        "id": "wkyaBB_PL__v"
      },
      "source": [
        "***"
      ]
    },
    {
      "cell_type": "markdown",
      "metadata": {
        "id": "uJzgdTieL__0"
      },
      "source": [
        "## QUESTION 1"
      ]
    },
    {
      "cell_type": "markdown",
      "source": [
        "1.3 QUESTION 1\n",
        "\n",
        "A student is taking three modules, and the probability that they pass any individual module depends on the fraction of the weekly live sessions they attend\n",
        "𝑓\n",
        "f so that the probability of passing the module is\n",
        "0.85\n",
        "𝑓.\n",
        "\n",
        "a.) If the student attends all the weekly live sessions, (f=1), calculate the probability that they will\n",
        "(i) pass all three modules,\n",
        "(ii) fail one module and pass the other two,\n",
        "(iii) pass only one module,\n",
        "(iv) pass no modules.\n",
        "\n",
        "b.) Show that the sum of these four probabilities is 1.\n",
        "\n",
        "c.) Calculate the four probabilities on the assumption that the student attends only half of the weekly live sessions.\n",
        "\n",
        "d.) What fraction of weekly live sessions must the student attend to have a 50% chance of passing all three modules?\n",
        "\n",
        "e.) Is this a realistic way to model the probability that the student will pass the modules?"
      ],
      "metadata": {
        "id": "AFypG4_cHmfj"
      }
    },
    {
      "cell_type": "code",
      "source": [
        "def passfunc(f):\n",
        "  return f*0.85\n",
        "\n",
        "'''A)'''\n",
        "'''i)'''\n",
        "#for the probability of all 3 passes you would multiply the probability for a single pass by itself 3 times...\n",
        "allPassA = passfunc(1) * passfunc(1) * passfunc(1)\n",
        "print(f\"{allPassA:.3f}\")\n",
        "\n",
        "'''ii)'''\n",
        "#fail one module and pass the other 2 = pass*pass*(1-pass). 3 ways, fail module one two or three\n",
        "oneFailA = 3 * (passfunc(1) * passfunc(1) * (1-passfunc(1)))\n",
        "print(f\"{oneFailA:.3f}\")\n",
        "\n",
        "'''iii)'''\n",
        "#fail 2 modules, 3 ways\n",
        "twoFailA = 3* (passfunc(1) * (1-passfunc(1)) * (1-passfunc(1)))\n",
        "print(f\"{twoFailA:.3f}\")\n",
        "\n",
        "'''iv)'''\n",
        "#failAll\n",
        "allFailA = (1-passfunc(1)) * (1-passfunc(1)) * (1-passfunc(1))\n",
        "print(f\"{allFailA:.3f}\")\n",
        "\n",
        "'''B)'''\n",
        "\n",
        "#Add to one?\n",
        "print(f\"{allPassA + oneFailA + twoFailA + allFailA:.3f}\")"
      ],
      "metadata": {
        "id": "lSHBDxLEA26F",
        "outputId": "c2b40933-5617-45a6-d5d6-9dbab88c319f",
        "colab": {
          "base_uri": "https://localhost:8080/"
        }
      },
      "execution_count": 5,
      "outputs": [
        {
          "output_type": "stream",
          "name": "stdout",
          "text": [
            "0.614\n",
            "0.325\n",
            "0.057\n",
            "0.003\n",
            "1.000\n"
          ]
        }
      ]
    },
    {
      "cell_type": "code",
      "source": [
        "'''C)'''\n",
        "'''i)'''\n",
        "#for the probability of all 3 passes you would multiply the probability for a single pass by itself 3 times...\n",
        "allPassC = passfunc(0.5) * passfunc(0.5) * passfunc(0.5)\n",
        "print(f\"{allPassC:.3f}\")\n",
        "\n",
        "'''ii)'''\n",
        "#fail one module and pass the other 2 = pass*pass*(1-pass). 3 ways, fail module one two or three\n",
        "oneFailC = 3 * (passfunc(0.5) * passfunc(0.5) * (1-passfunc(0.5)))\n",
        "print(f\"{oneFailC:.3f}\")\n",
        "\n",
        "'''iii)'''\n",
        "#fail 2 modules, 3 ways\n",
        "twoFailC = 3* (passfunc(0.5) * (1-passfunc(0.5)) * (1-passfunc(0.5)))\n",
        "print(f\"{twoFailC:.3f}\")\n",
        "\n",
        "'''iv)'''\n",
        "#failAll\n",
        "allFailC = (1-passfunc(0.5)) * (1-passfunc(0.5)) * (1-passfunc(0.5))\n",
        "print(f\"{allFailC:.3f}\")\n",
        "\n",
        "#sanity check\n",
        "print(f\"{allPassC + oneFailC + twoFailC + allFailC:.3f}\")"
      ],
      "metadata": {
        "id": "SLODJEDNIl-2",
        "outputId": "3156a938-991d-446f-e7c2-06402568d78b",
        "colab": {
          "base_uri": "https://localhost:8080/"
        }
      },
      "execution_count": 6,
      "outputs": [
        {
          "output_type": "stream",
          "name": "stdout",
          "text": [
            "0.077\n",
            "0.312\n",
            "0.422\n",
            "0.190\n",
            "1.000\n"
          ]
        }
      ]
    },
    {
      "cell_type": "code",
      "source": [
        "'''how to find 50% for all passes.. brute force seams easy but hacky (for incremental values, find the 50%)\n",
        "from P = (0.85f)**3\n",
        "P**1/3 = 0.85f\n",
        "f = (P**1/3)/0.85'''\n",
        "\n",
        "def inversePassFunc(P):\n",
        "  return (P**(1/3))/0.85\n",
        "\n",
        "print(f\"{inversePassFunc(0.5):.3f}\")"
      ],
      "metadata": {
        "id": "1fbS-0neJ7KB",
        "outputId": "8b8a5297-33b7-4c95-8502-56814acd2a58",
        "colab": {
          "base_uri": "https://localhost:8080/"
        }
      },
      "execution_count": 7,
      "outputs": [
        {
          "output_type": "stream",
          "name": "stdout",
          "text": [
            "0.934\n"
          ]
        }
      ]
    },
    {
      "cell_type": "code",
      "source": [
        "#sanity\n",
        "(passfunc(1)**3)**(1/3)/0.85"
      ],
      "metadata": {
        "id": "tc8JtWGFKtQJ",
        "outputId": "252988a5-d9b9-4d8e-dcb2-7f8c1282deab",
        "colab": {
          "base_uri": "https://localhost:8080/"
        }
      },
      "execution_count": 8,
      "outputs": [
        {
          "output_type": "execute_result",
          "data": {
            "text/plain": [
              "1.0"
            ]
          },
          "metadata": {},
          "execution_count": 8
        }
      ]
    },
    {
      "cell_type": "code",
      "source": [
        "passfunc(0.9337653246871762)"
      ],
      "metadata": {
        "id": "6EfyyWqgMJAD",
        "outputId": "588043bc-17ff-4f3b-b9be-d3fdf9945850",
        "colab": {
          "base_uri": "https://localhost:8080/"
        }
      },
      "execution_count": 9,
      "outputs": [
        {
          "output_type": "execute_result",
          "data": {
            "text/plain": [
              "0.7937005259840998"
            ]
          },
          "metadata": {},
          "execution_count": 9
        }
      ]
    },
    {
      "cell_type": "markdown",
      "metadata": {
        "id": "0TC0agg4L__3"
      },
      "source": [
        "\n",
        "**[10 marks]**"
      ]
    },
    {
      "cell_type": "markdown",
      "metadata": {
        "id": "kf60zcK0L__4"
      },
      "source": [
        "Answer:"
      ]
    },
    {
      "cell_type": "markdown",
      "metadata": {
        "id": "bQNiHHkGL__4"
      },
      "source": [
        "***"
      ]
    },
    {
      "cell_type": "markdown",
      "metadata": {
        "id": "2w9KGMhoL__6"
      },
      "source": [
        "##  QUESTION 2"
      ]
    },
    {
      "cell_type": "markdown",
      "source": [
        "I will be useing the Binomial distribution to analise the patient data, as it is a collection of yes no results.\n",
        "\n",
        "![image.png](data:image/png;base64,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)"
      ],
      "metadata": {
        "id": "C0q2HCfNkqAv"
      }
    },
    {
      "cell_type": "code",
      "source": [
        "'''Binomial,\n",
        "\n",
        "N=7, Theta =0.65 (same as D3, null hyp is that they are the same), Nu = 7(all successes)\n",
        "\n",
        "using my function from week 3'''\n",
        "\n",
        "import math\n",
        "\n",
        "def Binomial(n,k,p):\n",
        "  # n: number of trials, k: successes , p: probrbility of single event\n",
        "  return math.comb(n,k) * (p**k) * ((1-p)**(n-k))\n",
        "\n",
        "print(f\"{Binomial(7, 7, 0.65):.3f}\")"
      ],
      "metadata": {
        "id": "id_9OQr2lMwm",
        "outputId": "49124d0b-6237-45a8-fbc3-157d606a2f3c",
        "colab": {
          "base_uri": "https://localhost:8080/"
        }
      },
      "execution_count": 10,
      "outputs": [
        {
          "output_type": "stream",
          "name": "stdout",
          "text": [
            "0.049\n"
          ]
        }
      ]
    },
    {
      "cell_type": "markdown",
      "metadata": {
        "id": "K07k4Wf1L__7"
      },
      "source": [
        "**[20 marks]**"
      ]
    },
    {
      "cell_type": "markdown",
      "metadata": {
        "id": "FtMgW4LBL__8"
      },
      "source": [
        "Answer:"
      ]
    },
    {
      "cell_type": "markdown",
      "source": [
        "To compare the new trial with the old, we state a null hypothesis:\n",
        "\n",
        "The outcome of a trial with the new marker (M23) would have the same probability distribution as any trial undertaken with the old marker (D3).\n",
        "\n",
        "We perform the calculation to find the probability of getting 7/7 successes with an assumption that the single success probability was 0.65. The same as D3's probability of success, in line with the null hypothesis.\n",
        "\n",
        "The calculation (code above) yielded a probability of 0.049. The standard threshold to reject a null hypothesis is to have a p < 0.05. Therefore, with a note to how close to the threshold we are, we can reject the null hypothesis and based on these results support M23 as a better marker for the disease than D3."
      ],
      "metadata": {
        "id": "DNO0hq6RvfRx"
      }
    },
    {
      "cell_type": "code",
      "source": [
        "'''Plot Distribution'''\n",
        "import matplotlib.pyplot as plt\n",
        "\n",
        "successes = [0,1,2,3,4,5,6,7]\n",
        "probabilities = [Binomial(7,k,0.65) for k in successes]\n",
        "\n",
        "plt.bar(successes, probabilities)\n",
        "plt.axhline(y=0.05, color='r', linestyle=':', label='Rejection Threshold')\n",
        "plt.xlabel('Number of successes')\n",
        "plt.ylabel('Probability')\n",
        "plt.title('Probabilities of X/7 successes')\n",
        "plt.legend()\n",
        "plt.show()"
      ],
      "metadata": {
        "id": "OH8B8aCh0YKk",
        "outputId": "ed3da64f-718c-4b3c-d62c-ebf724ca58ce",
        "colab": {
          "base_uri": "https://localhost:8080/",
          "height": 472
        }
      },
      "execution_count": 11,
      "outputs": [
        {
          "output_type": "display_data",
          "data": {
            "text/plain": [
              "<Figure size 640x480 with 1 Axes>"
            ],
            "image/png": "[encoded data removed]"
          },
          "metadata": {}
        }
      ]
    },
    {
      "cell_type": "markdown",
      "metadata": {
        "id": "lsQiV7zxL__8"
      },
      "source": [
        "***"
      ]
    },
    {
      "cell_type": "markdown",
      "metadata": {
        "id": "E4b5VtB2L__9"
      },
      "source": [
        "## QUESTION 3"
      ]
    },
    {
      "cell_type": "markdown",
      "metadata": {
        "id": "hVm43a3gL__9"
      },
      "source": [
        "**[15 marks]**"
      ]
    },
    {
      "cell_type": "markdown",
      "metadata": {
        "id": "MuHrFNeOL__-"
      },
      "source": [
        "Answer:"
      ]
    },
    {
      "cell_type": "markdown",
      "metadata": {
        "id": "UHN9hpQmL__-"
      },
      "source": [
        "***"
      ]
    },
    {
      "cell_type": "markdown",
      "metadata": {
        "id": "Kj0K8KC6L___"
      },
      "source": [
        "## QUESTION 4"
      ]
    },
    {
      "cell_type": "markdown",
      "metadata": {
        "id": "htV1eoSrL___"
      },
      "source": [
        "**[25 marks]**"
      ]
    },
    {
      "cell_type": "code",
      "source": [
        "'''  P(A|B) = P(B|A) * P(A) / P(B)\n",
        "\n",
        "P(A|B) = Deomcrat given opposed\n",
        "P(B|A) = opposed given Demo (0.2)\n",
        "P(A) = Demo (0.4)\n",
        "P(B) = Opposed ((demo * demo opp) + (repub * repOpp) + (indi * indi Opp)) ((0.4*0.2)+(0.36*0.65)+(0.24*0.9))\n",
        "'''\n",
        "\n",
        "PAB = 0.2 * 0.4 / ((0.4*0.2)+(0.36*0.65)+(0.24*0.9))\n",
        "\n",
        "print(f\"{PAB:.3f}\")"
      ],
      "metadata": {
        "id": "BLT4Kaqq_ZNe",
        "outputId": "56d99a05-7c0e-4f6d-d9cd-820f16b84dc9",
        "colab": {
          "base_uri": "https://localhost:8080/"
        }
      },
      "execution_count": 12,
      "outputs": [
        {
          "output_type": "stream",
          "name": "stdout",
          "text": [
            "0.151\n"
          ]
        }
      ]
    },
    {
      "cell_type": "markdown",
      "metadata": {
        "id": "AsGinbx3MAAD"
      },
      "source": [
        "Answer:"
      ]
    },
    {
      "cell_type": "markdown",
      "source": [
        "The probability of the police officer being a Democrat voter is 15%"
      ],
      "metadata": {
        "id": "-Hvf5ngeEkIl"
      }
    },
    {
      "cell_type": "markdown",
      "metadata": {
        "id": "3bNFe4_7MAAE"
      },
      "source": [
        "***"
      ]
    },
    {
      "cell_type": "markdown",
      "metadata": {
        "id": "AG1cqwGxMAAE"
      },
      "source": [
        "## QUESTION 5"
      ]
    },
    {
      "cell_type": "code",
      "source": [
        "import numpy as np\n",
        "\n",
        "\n",
        "m100 = np.array([11,12,12,13,13,15,11,16,11,12])\n",
        "m1500 = np.array([270,300,230,260,270,230,260,240,270,260])\n",
        "MemberNumber = range(1,11,1)\n",
        "\n",
        "plt.plot(m100,m1500,\"b.\")\n",
        "plt.figure()\n",
        "\n",
        "plt.plot(MemberNumber,m1500)\n",
        "plt.plot(MemberNumber,m100)\n",
        "plt.figure()"
      ],
      "metadata": {
        "id": "ftpw_-zNFu_V",
        "outputId": "0a27a15e-9d30-4bde-c02e-e4e33002fa6e",
        "colab": {
          "base_uri": "https://localhost:8080/",
          "height": 878
        }
      },
      "execution_count": 26,
      "outputs": [
        {
          "output_type": "execute_result",
          "data": {
            "text/plain": [
              "<Figure size 640x480 with 0 Axes>"
            ]
          },
          "metadata": {},
          "execution_count": 26
        },
        {
          "output_type": "display_data",
          "data": {
            "text/plain": [
              "<Figure size 640x480 with 1 Axes>"
            ],
            "image/png": "[encoded data removed]"
          },
          "metadata": {}
        },
        {
          "output_type": "display_data",
          "data": {
            "text/plain": [
              "<Figure size 640x480 with 1 Axes>"
            ],
            "image/png": "[encoded data removed]"
          },
          "metadata": {}
        },
        {
          "output_type": "display_data",
          "data": {
            "text/plain": [
              "<Figure size 640x480 with 0 Axes>"
            ]
          },
          "metadata": {}
        }
      ]
    },
    {
      "cell_type": "code",
      "source": [],
      "metadata": {
        "id": "tT06syVDIVr2",
        "outputId": "1741d8c8-03b0-446f-8702-48583f78bc17",
        "colab": {
          "base_uri": "https://localhost:8080/"
        }
      },
      "execution_count": 22,
      "outputs": [
        {
          "output_type": "stream",
          "name": "stdout",
          "text": [
            "1\n"
          ]
        }
      ]
    },
    {
      "cell_type": "markdown",
      "metadata": {
        "id": "D95Iv0pGMAAE"
      },
      "source": [
        "**[30 marks]**"
      ]
    },
    {
      "cell_type": "markdown",
      "metadata": {
        "id": "-MmKS_W_MAAF"
      },
      "source": [
        "Answer:"
      ]
    }
  ],
  "metadata": {
    "kernelspec": {
      "display_name": "Python 3 (ipykernel)",
      "language": "python",
      "name": "python3"
    },
    "language_info": {
      "codemirror_mode": {
        "name": "ipython",
        "version": 3
      },
      "file_extension": ".py",
      "mimetype": "text/x-python",
      "name": "python",
      "nbconvert_exporter": "python",
      "pygments_lexer": "ipython3",
      "version": "3.9.13"
    },
    "colab": {
      "provenance": []
    }
  },
  "nbformat": 4,
  "nbformat_minor": 0
}