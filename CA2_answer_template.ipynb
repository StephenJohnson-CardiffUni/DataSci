{
  "cells": [
    {
      "cell_type": "markdown",
      "metadata": {
        "collapsed": true,
        "id": "dCJ5-uUiqOm4"
      },
      "source": [
        "#### Data Science - Coursework 2 (50%)\n",
        "# What caused this gravitational wave signal?\n",
        "## Deadline Friday week 11, 2pm."
      ]
    },
    {
      "cell_type": "markdown",
      "metadata": {
        "id": "R7zytAQCqOm6"
      },
      "source": [
        "#### Instructions"
      ]
    },
    {
      "cell_type": "markdown",
      "metadata": {
        "id": "i7tDGXLkqOm7"
      },
      "source": [
        "This coursework assesses learning outcomes from **all Chapters** of the course, but in particular **Chapters 6, 7, 8 and 9**. It is worth 50% of the module. Please ensure you have read the [Chapter 8 Jupyter Notebook](https://github.com/haleygomez/Data-Science-2024/blob/master/blended_exercises/Chapter8/Chapter8.ipynb) before starting this coursework."
      ]
    },
    {
      "cell_type": "markdown",
      "metadata": {
        "id": "QhSU99BJqOm7"
      },
      "source": [
        "**These assessments are equivalent to an exam**:\n",
        "- Submit your work via Turn-It-In on Learning Central. Note that you will need to upload your final notebook exported as a PDF file. **Don't forget to click `run all` before you export it**. You can constantly update this document until the deadline.\n",
        "- The breakdown of the assessment criteria is provided in Learning Central under Assessment.\n",
        "- Don't worry about how your code looks - marks are not given for pretty code, but rather for the approach used in solving the problem, your reasoning, explanation and answer.\n",
        "- It is estimated that the workload required for this CA is approximately 30-35 hours."
      ]
    },
    {
      "cell_type": "markdown",
      "metadata": {
        "id": "Wh2WDRZBqOm7"
      },
      "source": [
        "<div class=\"alert-info\">\n",
        "Please also take note of the University’s policy on plagiarism, which is outlined in your student handbook.\n",
        " </div>"
      ]
    },
    {
      "cell_type": "markdown",
      "metadata": {
        "id": "oExJIuggqOm8"
      },
      "source": [
        "Plagiarism is the act of passing off the words or ideas of others as if your own. Advice on avoiding plagiarism is given in the UG Student Handbook. There is also considerable help and advice on Learning Central and the University web site. Students need to be especially careful of plagiarism in computing tasks and you are advised not to share code through electronic means. Students working together during their weekly exercises and the coursework is great (and indeed encouraged) but need to ensure that they are not using each other's code or text.\n",
        "\n",
        "This coursework will be submitted via Learning Central's Turnitin which automatically checks for plagiarism."
      ]
    },
    {
      "cell_type": "markdown",
      "metadata": {
        "id": "xg2E0fLLqOm8"
      },
      "source": [
        "#### Tips\n"
      ]
    },
    {
      "cell_type": "markdown",
      "metadata": {
        "id": "p_J-OQ09qOm8"
      },
      "source": [
        "- Explain all your reasoning for each step. A *significant fraction* of the marks are given for explanations and discussion, as they evidence understanding of the analysis.  \n",
        "- Some of these steps will take a while to run and compile. It's a good idea to add in print statements to your code throughout eg `print('this step is done')` to make sure that your bit of code has finished.\n",
        "- Add the import packages statements at the top of your Jupyter notebook. We will use the `pandas` package to read in the data, with eg `dataIn=pd.read_csv('filename.csv')`.\n",
        "- You may need to do some additional research into this subject. You will find it useful to look at the following publication from the LIGO consortium. https://arxiv.org/pdf/1608.01940.pdf"
      ]
    },
    {
      "cell_type": "markdown",
      "metadata": {
        "id": "2rfOY3SQqOm8"
      },
      "source": [
        "***"
      ]
    },
    {
      "cell_type": "code",
      "source": [
        "import pandas as pd\n",
        "import matplotlib.pyplot as plt"
      ],
      "metadata": {
        "id": "Z_MdwWb90yC8"
      },
      "execution_count": 4,
      "outputs": []
    },
    {
      "cell_type": "markdown",
      "metadata": {
        "id": "ZRsETRV3qOm9"
      },
      "source": [
        "## Part A - Some background [15 marks]"
      ]
    },
    {
      "cell_type": "markdown",
      "metadata": {
        "id": "Iw5FrnY3qOm9"
      },
      "source": [
        "**Answer:**"
      ]
    },
    {
      "cell_type": "markdown",
      "metadata": {
        "id": "mW_dhP0gqOm9"
      },
      "source": [
        "How do astronomers know that the gravitational waves from the GW150914 event were due to two black holes merging?"
      ]
    },
    {
      "cell_type": "markdown",
      "source": [
        "Describe the different parts of the waveform produced due to gravitational waves from a merging black hole event."
      ],
      "metadata": {
        "id": "QO8h7tPuq2PI"
      }
    },
    {
      "cell_type": "markdown",
      "source": [
        "The file gravitationalwaveevents.csv contains the properties of previously observed gravitational waves.\n",
        "Plot the total mass (given in solar masses, 1M⊙ = 1.99×10^30 kg) of the merging sources against their distance (given in units of Mpc, 1 pc = 3 × 10^16m)."
      ],
      "metadata": {
        "id": "UeSrE0uvq7Dy"
      }
    },
    {
      "cell_type": "code",
      "source": [
        "GravWavDat=pd.read_csv('/content/gravitationalwaveevents.csv')\n",
        "print(GravWavDat.head())"
      ],
      "metadata": {
        "id": "OtsJXOru0cTz",
        "outputId": "bb4d8f0b-b08e-4e8e-9d90-f15857f47f97",
        "colab": {
          "base_uri": "https://localhost:8080/"
        }
      },
      "execution_count": 2,
      "outputs": [
        {
          "output_type": "stream",
          "name": "stdout",
          "text": [
            "       DL  DL_err  Mtot  Mtot_err  Mchirp  Mchirp_err detType\n",
            "0   430.0   170.0  63.1       3.0    28.6        -1.5      GW\n",
            "1  1060.0   480.0  35.7       3.8    15.2        -1.1      GW\n",
            "2   440.0   190.0  20.5       1.5     8.9        -0.3      GW\n",
            "3   960.0   410.0  49.1       3.9    21.5        -1.7      GW\n",
            "4   320.0   110.0  17.8       0.7     7.9        -0.2      GW\n"
          ]
        }
      ]
    },
    {
      "cell_type": "code",
      "source": [
        "plt.errorbar(GravWavDat['DL'],GravWavDat['Mtot'],GravWavDat['Mtot_err'],GravWavDat['DL_err'],'b.')\n",
        "plt.xlabel('Luminosity Distance [Mpc]')\n",
        "plt.ylabel('Total Mass [M⊙]')\n",
        "plt.title('Gravitational Wave Data: Luminosity Distance vs Total Mass')"
      ],
      "metadata": {
        "id": "OdNjCzPf2xoB",
        "outputId": "c3f0a8cb-0685-4eee-b2ff-1713ecb840fb",
        "colab": {
          "base_uri": "https://localhost:8080/",
          "height": 489
        }
      },
      "execution_count": 7,
      "outputs": [
        {
          "output_type": "execute_result",
          "data": {
            "text/plain": [
              "Text(0.5, 1.0, 'Gravitational Wave Data: Luminosity Distance vs Total Mass')"
            ]
          },
          "metadata": {},
          "execution_count": 7
        },
        {
          "output_type": "display_data",
          "data": {
            "text/plain": [
              "<Figure size 640x480 with 1 Axes>"
            ],
            "image/png": "[encoded data removed]"
          },
          "metadata": {}
        }
      ]
    },
    {
      "cell_type": "markdown",
      "metadata": {
        "id": "jP1k5YwvqOm9"
      },
      "source": [
        "***"
      ]
    },
    {
      "cell_type": "markdown",
      "metadata": {
        "id": "6oAKqYCrqOm9"
      },
      "source": [
        "## Part B - The data [15 marks]"
      ]
    },
    {
      "cell_type": "markdown",
      "metadata": {
        "id": "LLklBdFeqOm9"
      },
      "source": [
        "**Answer:**"
      ]
    },
    {
      "cell_type": "markdown",
      "metadata": {
        "id": "ycV2RfRiqOm-"
      },
      "source": [
        "Your answer here"
      ]
    },
    {
      "cell_type": "markdown",
      "metadata": {
        "id": "Lqi0WTxEqOm-"
      },
      "source": [
        "***"
      ]
    },
    {
      "cell_type": "markdown",
      "metadata": {
        "id": "8I1lFD4lqOm-"
      },
      "source": [
        "## Part C - Interpolate reference model to match the observed data time sampling [15 marks]"
      ]
    },
    {
      "cell_type": "markdown",
      "metadata": {
        "id": "YbtpO2PIqOm-"
      },
      "source": [
        "**Answer:**"
      ]
    },
    {
      "cell_type": "markdown",
      "metadata": {
        "id": "AuxWK8MzqOm-"
      },
      "source": [
        "Your answer here"
      ]
    },
    {
      "cell_type": "markdown",
      "metadata": {
        "id": "i4sOBXSVqOm-"
      },
      "source": [
        "***"
      ]
    },
    {
      "cell_type": "markdown",
      "metadata": {
        "id": "sEQ6JeTxqOm_"
      },
      "source": [
        "## Part D - Using model waveforms to estimate the total mass and distance to the system \"a by-eye estimate\") [24 marks]"
      ]
    },
    {
      "cell_type": "markdown",
      "metadata": {
        "id": "uL9oVpD7qOm_"
      },
      "source": [
        "**Answer**"
      ]
    },
    {
      "cell_type": "markdown",
      "metadata": {
        "id": "-0aJOsDBqOm_"
      },
      "source": [
        "Your answer here"
      ]
    },
    {
      "cell_type": "markdown",
      "metadata": {
        "id": "jDsIAOxjqOm_"
      },
      "source": [
        "***"
      ]
    },
    {
      "cell_type": "markdown",
      "metadata": {
        "id": "lI6Ty_2NqOm_"
      },
      "source": [
        "## Part E - Estimating the total mass using MCMC [75 marks]"
      ]
    },
    {
      "cell_type": "markdown",
      "metadata": {
        "id": "L2jwVrzZqOm_"
      },
      "source": [
        "**Answer:**"
      ]
    },
    {
      "cell_type": "markdown",
      "metadata": {
        "id": "9fuUIUWXqOm_"
      },
      "source": [
        "Your answer here"
      ]
    },
    {
      "cell_type": "markdown",
      "metadata": {
        "id": "EfMhGLiRqOm_"
      },
      "source": [
        "***"
      ]
    },
    {
      "cell_type": "markdown",
      "metadata": {
        "id": "bIBxaHTuqOnA"
      },
      "source": [
        "## Part F - Putting it all together [36 marks]"
      ]
    },
    {
      "cell_type": "markdown",
      "metadata": {
        "id": "9YLJ0yesqOnA"
      },
      "source": [
        "**Answer:**"
      ]
    },
    {
      "cell_type": "markdown",
      "metadata": {
        "id": "8OV5laggqOnA"
      },
      "source": [
        "Your answer here"
      ]
    },
    {
      "cell_type": "markdown",
      "metadata": {
        "id": "dltd-qJ3qOnA"
      },
      "source": [
        "***"
      ]
    },
    {
      "cell_type": "markdown",
      "metadata": {
        "id": "0pz1m9PTqOnA"
      },
      "source": [
        "## Evidence of Understanding, Presentation and Interpretation [20 marks]\n",
        "\n",
        "An additional 20 marks will be awarded for evidence of understanding and knowledge via (for example) explanations, plots, comments on your results and well formatted and well explained results. Marks are also available for additional investigations carried out on your analysis above. These marks are available for those data analysis reports that show evidence of work that is *very high quality* or *outstanding* as per the decile descriptions in the Assessment Criteria for modules. <div align=\"right\">**[20 marks]**</div>"
      ]
    }
  ],
  "metadata": {
    "kernelspec": {
      "display_name": "Python 3 (ipykernel)",
      "language": "python",
      "name": "python3"
    },
    "language_info": {
      "codemirror_mode": {
        "name": "ipython",
        "version": 3
      },
      "file_extension": ".py",
      "mimetype": "text/x-python",
      "name": "python",
      "nbconvert_exporter": "python",
      "pygments_lexer": "ipython3",
      "version": "3.9.13"
    },
    "colab": {
      "provenance": []
    }
  },
  "nbformat": 4,
  "nbformat_minor": 0
}