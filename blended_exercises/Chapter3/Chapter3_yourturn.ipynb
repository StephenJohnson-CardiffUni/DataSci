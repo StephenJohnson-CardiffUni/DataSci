{
  "cells": [
    {
      "cell_type": "markdown",
      "metadata": {
        "id": "ubl4a9H70vzL"
      },
      "source": [
        "# To be completed at the Live Session and in your own time.\n",
        "\n",
        "These set of examples we will help you get familiar with estimating probabilities and using Bayes Theorem within a Jupyter notebook.  The questions coloured green are important practice for CA.\n",
        "\n",
        "Before attempting these examples, please ensure you have read through [Chapter 3 Jupyter Notebook](https://github.com/haleygomez/Data-Science-2024/blob/main/blended_exercises/Chapter3/Chapter3.ipynb) and have completed the Learning Central **Chapter 3 quiz**.\n",
        "\n",
        "These are good practice for CA 1 Questions 2 and 3."
      ]
    },
    {
      "cell_type": "markdown",
      "metadata": {
        "id": "NnvdaMtE0vzM"
      },
      "source": [
        "***"
      ]
    },
    {
      "cell_type": "markdown",
      "metadata": {
        "id": "t7A4QK9_0vzN"
      },
      "source": [
        "# Probabilities"
      ]
    },
    {
      "cell_type": "markdown",
      "metadata": {
        "id": "WpjT7XGy0vzN"
      },
      "source": [
        "## <font color=#30a64d>Question</font>"
      ]
    },
    {
      "cell_type": "markdown",
      "metadata": {
        "id": "sIjRG0S50vzN"
      },
      "source": [
        "You flip a coin 5 times. Use an appropriate probability function to estimate the probability that heads will **not** occur 3 times.  "
      ]
    },
    {
      "cell_type": "code",
      "source": [
        "import math\n"
      ],
      "metadata": {
        "id": "hkaEJIS35QSb"
      },
      "execution_count": 5,
      "outputs": []
    },
    {
      "cell_type": "code",
      "source": [
        "def Binomial(n,k,p):\n",
        "  return math.comb(n,k) * (p**k) * ((1-p)**(n-k))\n",
        "\n",
        "#n: number of trials (5), k: wanted out come (2 heads or less), p = probrbility of event (0.5 coin flip)\n",
        "\n",
        "print(Binomial(5,2,0.5))\n"
      ],
      "metadata": {
        "id": "UiYmSJWC040T",
        "outputId": "ee2d0a70-4403-4ef1-a2e7-4aea92fa2fb2",
        "colab": {
          "base_uri": "https://localhost:8080/"
        }
      },
      "execution_count": 8,
      "outputs": [
        {
          "output_type": "stream",
          "name": "stdout",
          "text": [
            "0.3125\n"
          ]
        }
      ]
    },
    {
      "cell_type": "markdown",
      "metadata": {
        "id": "nZioIveM0vzN"
      },
      "source": [
        "### Answer"
      ]
    },
    {
      "cell_type": "markdown",
      "metadata": {
        "id": "ywGVPAwJ0vzN"
      },
      "source": [
        "*Your answer here.*"
      ]
    },
    {
      "cell_type": "markdown",
      "metadata": {
        "id": "pqEqh8Qz0vzN"
      },
      "source": [
        "## <font color=#30a64d>Question</font>"
      ]
    },
    {
      "cell_type": "markdown",
      "metadata": {
        "id": "zr9HMqD-0vzN"
      },
      "source": [
        "The probability that a student is accepted to a prestigious university is 0.3. If 5 students from the same school apply, what is the probability that at most 2 are accepted?"
      ]
    },
    {
      "cell_type": "code",
      "source": [],
      "metadata": {
        "id": "U7wiJdPw06Ct"
      },
      "execution_count": null,
      "outputs": []
    },
    {
      "cell_type": "markdown",
      "metadata": {
        "id": "oaPSCfpY0vzN"
      },
      "source": [
        "### Answer"
      ]
    },
    {
      "cell_type": "markdown",
      "metadata": {
        "id": "C0sqY0qj0vzO"
      },
      "source": [
        "*Your answer here.*"
      ]
    },
    {
      "cell_type": "markdown",
      "metadata": {
        "id": "LX0BDwSq0vzO"
      },
      "source": [
        "***"
      ]
    },
    {
      "cell_type": "markdown",
      "metadata": {
        "id": "ovapwzf00vzO"
      },
      "source": [
        "# Probability Distributions"
      ]
    },
    {
      "cell_type": "markdown",
      "metadata": {
        "id": "80Ub7_hm0vzO"
      },
      "source": [
        "## <font color=#30a64d>Question </fomt>"
      ]
    },
    {
      "cell_type": "markdown",
      "metadata": {
        "id": "ZfN3VTCe0vzO"
      },
      "source": [
        "What does the binomial distribution look like if the probability of success in $N=17$ trials is $\\theta = 0.7$?  "
      ]
    },
    {
      "cell_type": "markdown",
      "metadata": {
        "id": "KYFAqxO40vzO"
      },
      "source": [
        "### Answer"
      ]
    },
    {
      "cell_type": "markdown",
      "metadata": {
        "id": "JbcqyFkp0vzO"
      },
      "source": [
        "*Your answer here.*"
      ]
    },
    {
      "cell_type": "markdown",
      "metadata": {
        "id": "-1r6dVau0vzO"
      },
      "source": [
        "## <font color=#30a64d> Question </font>"
      ]
    },
    {
      "cell_type": "markdown",
      "metadata": {
        "id": "9NMHq0rS0vzO"
      },
      "source": [
        "Plot a normal distribution in python with mean = 8.0 and standard deviation = 2.0 over an x range `[0,16]`. Do this both by writing your own function and by using in-built Python routines.  \n",
        "\n",
        "Plot the CDF of the normal distribution using in-built python routines. Estimate the median."
      ]
    },
    {
      "cell_type": "markdown",
      "metadata": {
        "id": "km0JXCyb0vzO"
      },
      "source": [
        "### Answer"
      ]
    },
    {
      "cell_type": "markdown",
      "metadata": {
        "id": "flFXma9C0vzO"
      },
      "source": [
        "*Your answer here.*"
      ]
    },
    {
      "cell_type": "markdown",
      "metadata": {
        "id": "BhVUgUsU0vzO"
      },
      "source": [
        "## Question"
      ]
    },
    {
      "cell_type": "markdown",
      "metadata": {
        "id": "VOgbkdcX0vzP"
      },
      "source": [
        "Let $X$ be a discrete random variable with range $X={1,2,3,...}$. Suppose the probability mass function (PMF) of $X$ is given by\n",
        "\n",
        "$P_X(k) = \\dfrac{1}{2^k}$ for $k={1,2,3,...}$\n",
        "\n",
        "1. Find $P(2<X\\le 5)$.\n",
        "2. Plot the CDF of $X$, $F_X(x)$ where $F_X(x) = \\dfrac{2^k-1}{2^k}$"
      ]
    },
    {
      "cell_type": "markdown",
      "metadata": {
        "id": "itBGcR-z0vzP"
      },
      "source": [
        "### Answer"
      ]
    },
    {
      "cell_type": "markdown",
      "metadata": {
        "id": "dmC-YCxL0vzP"
      },
      "source": [
        "*Your answer here.*"
      ]
    },
    {
      "cell_type": "markdown",
      "metadata": {
        "id": "DWdx5kXq0vzP"
      },
      "source": [
        "***"
      ]
    },
    {
      "cell_type": "markdown",
      "metadata": {
        "id": "oyUtDySs0vzP"
      },
      "source": [
        "# Best Estimates"
      ]
    },
    {
      "cell_type": "markdown",
      "metadata": {
        "id": "FnooBDm60vzP"
      },
      "source": [
        "## Question"
      ]
    },
    {
      "cell_type": "markdown",
      "metadata": {
        "id": "MMWM8OFp0vzP"
      },
      "source": [
        "Astronomers take an image of the galaxy M42 with a telescope to measure its brightness. But they find that the image has background light across the whole picture (we call this a positive background level) which affects the measured brightness of the galaxy. They want to subtract this level off the image.   They don't know whether the mean background value in the image or the median background value is a better estimate of the background.\n",
        "\n",
        "Take the image (available [here](https://github.com/haleygomez/Data-Science-2024/raw/main/blended_exercises/Chapter3/galaxym42.fits.fz), you will need to upload it to google colab) and plot a histogram of the brightness measured across the image. Overplot the mean and median values and decide which one provides the best measurement of the nuisance background light.<br><br>\n",
        "\n",
        "Tip: import the following `import matplotlib.pyplot as plt` and `from astropy.io import fits` and read in the image file of the galaxy using the following commands:\n",
        "\n",
        "`image_data = fits.getdata('galaxym42.fits.fz')`\n",
        "\n",
        "`histogram = plt.hist(image_data.flatten(),1000,histtype='bar')`"
      ]
    },
    {
      "cell_type": "markdown",
      "metadata": {
        "id": "3hderuu-0vzP"
      },
      "source": [
        "### Answer"
      ]
    },
    {
      "cell_type": "markdown",
      "metadata": {
        "id": "gwBywR1l0vzP"
      },
      "source": [
        "*Your answer here.*"
      ]
    }
  ],
  "metadata": {
    "kernelspec": {
      "display_name": "Python 3 (ipykernel)",
      "language": "python",
      "name": "python3"
    },
    "language_info": {
      "codemirror_mode": {
        "name": "ipython",
        "version": 3
      },
      "file_extension": ".py",
      "mimetype": "text/x-python",
      "name": "python",
      "nbconvert_exporter": "python",
      "pygments_lexer": "ipython3",
      "version": "3.9.13"
    },
    "colab": {
      "provenance": []
    }
  },
  "nbformat": 4,
  "nbformat_minor": 0
}