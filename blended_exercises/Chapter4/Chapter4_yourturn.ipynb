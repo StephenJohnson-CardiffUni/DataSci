{
  "cells": [
    {
      "cell_type": "markdown",
      "metadata": {
        "id": "oLppUEFyWOXB"
      },
      "source": [
        "# To be completed at the Live Session and in your own time.\n",
        "\n",
        "These set of examples we will help you get familiar with estimating probabilities and using Bayes Theorem within a Jupyter notebook.  The questions coloured green are important practice for CA.\n",
        "\n",
        "Before attempting these examples, please ensure you have read through [Chapter 4 Jupyter Notebook](https://github.com/haleygomez/Data-Science-2024/blob/main/blended_exercises/Chapter4/Chapter4.ipynb) and have completed the Learning Central **Chapter 4 quiz**.\n",
        "\n",
        "These are good practice for CA 1 Question 5."
      ]
    },
    {
      "cell_type": "markdown",
      "metadata": {
        "id": "2xaM8ZklWOXC"
      },
      "source": [
        "***"
      ]
    },
    {
      "cell_type": "markdown",
      "metadata": {
        "id": "mZya7mVUWOXC"
      },
      "source": [
        "# Errors"
      ]
    },
    {
      "cell_type": "markdown",
      "metadata": {
        "id": "cdGZ4-pIWOXD"
      },
      "source": [
        "## Question"
      ]
    },
    {
      "cell_type": "markdown",
      "metadata": {
        "id": "2Qf6-i6-WOXD"
      },
      "source": [
        "Three students measure the same resistance several times, with final measurements (in Ohms):\n",
        "\n",
        "Student 1: $R = 11 \\pm 1$\n",
        "Student 2: $R = 12 \\pm 1$\n",
        "Student 3: $R = 10 \\pm 3$.\n",
        "\n",
        "Given these three results what do we write down as the best estimate for the resistance $R$? Tip: you will need to use weighted errors."
      ]
    },
    {
      "cell_type": "markdown",
      "metadata": {
        "id": "3A_noS4JWOXD"
      },
      "source": [
        "### Answer"
      ]
    },
    {
      "cell_type": "code",
      "source": [
        "student1 = 11\n",
        "student2 = 12\n",
        "student3 = 10\n",
        "\n",
        "error1 = 1\n",
        "error2 = 1\n",
        "error3 = 3\n",
        "\n",
        "weight1 = 1/error1**2\n",
        "weight2 = 1/error2**2\n",
        "weight3 = 1/error3**2\n",
        "\n",
        "weightedAverage = (weight1*student1 + weight2*student2 + weight3*student3)/(weight1 + weight2 + weight3)\n",
        "\n",
        "print(weightedAverage)"
      ],
      "metadata": {
        "id": "LsIGByRSWTtL",
        "outputId": "8c5f7c9e-7231-474b-aff7-815414c16ec7",
        "colab": {
          "base_uri": "https://localhost:8080/"
        }
      },
      "execution_count": 1,
      "outputs": [
        {
          "output_type": "stream",
          "name": "stdout",
          "text": [
            "11.421052631578947\n"
          ]
        }
      ]
    },
    {
      "cell_type": "markdown",
      "metadata": {
        "id": "Weub0BWZWOXD"
      },
      "source": [
        "*Your answer here.*"
      ]
    },
    {
      "cell_type": "markdown",
      "metadata": {
        "id": "XpU4Jg3JWOXD"
      },
      "source": [
        "***"
      ]
    },
    {
      "cell_type": "markdown",
      "metadata": {
        "id": "mgCrSNp8WOXD"
      },
      "source": [
        "# Correlation"
      ]
    },
    {
      "cell_type": "markdown",
      "metadata": {
        "id": "4G5JEU8EWOXD"
      },
      "source": [
        "## <font color=#30a64d>Question </font>"
      ]
    },
    {
      "cell_type": "markdown",
      "metadata": {
        "id": "RGZI0-jeWOXD"
      },
      "source": [
        "The datafile [worldpopulation.txt](https://github.com/haleygomez/Data-Science-2024/raw/main/blended_exercises/Chapter4/worldpopulation.txt) contains the world population size measured since 1960. Plot the data (you will need to upload the datafile to your Google Colab). <br><br>\n",
        "\n",
        "Measure the correlation coefficient using the in built Python package for the Pearson $r$s statistic. <br><br>\n",
        "\n",
        "Measure it again but this time creating the functions to calculate $r$ from scratch.  \n",
        "\n",
        "The url of the file is \"https://github.com/haleygomez/Data-Science-2024/raw/main/blended_exercises/Chapter4/worldpopulation.txt\""
      ]
    },
    {
      "cell_type": "markdown",
      "metadata": {
        "id": "liaq3Z-cWOXE"
      },
      "source": [
        "### Answer"
      ]
    },
    {
      "cell_type": "code",
      "source": [
        "import numpy as np\n",
        "import matplotlib.pyplot as plt\n",
        "\n",
        "worldpops = np.loadtxt(\"worldpopulation.txt\", delimiter=\" \")\n",
        "\n",
        "worldpop = np.concatenate((worldpops[0], worldpops[1]), axis=0)\n",
        "\n",
        "print(worldpop)\n",
        "\n",
        "# Generate 118 points starting from 1960 for 59 years, 2 values per year\n",
        "years = np.linspace(1960, 1960 + 59, num=59*2, endpoint=False)\n",
        "\n",
        "# Print the result\n",
        "print(years)\n",
        "\n",
        "plt.plot(years, worldpop)\n",
        "plt.xlabel(\"Years\")\n",
        "plt.ylabel(\"Population\")\n",
        "plt.show()"
      ],
      "metadata": {
        "id": "Cv00WJQfYIZq",
        "outputId": "a4383870-2e2c-4ea6-8b89-556626414791",
        "colab": {
          "base_uri": "https://localhost:8080/",
          "height": 1000
        }
      },
      "execution_count": 5,
      "outputs": [
        {
          "output_type": "stream",
          "name": "stdout",
          "text": [
            "[1.96000000e+03 1.96100000e+03 1.96200000e+03 1.96300000e+03\n",
            " 1.96400000e+03 1.96500000e+03 1.96600000e+03 1.96700000e+03\n",
            " 1.96800000e+03 1.96900000e+03 1.97000000e+03 1.97100000e+03\n",
            " 1.97200000e+03 1.97300000e+03 1.97400000e+03 1.97500000e+03\n",
            " 1.97600000e+03 1.97700000e+03 1.97800000e+03 1.97900000e+03\n",
            " 1.98000000e+03 1.98100000e+03 1.98200000e+03 1.98300000e+03\n",
            " 1.98400000e+03 1.98500000e+03 1.98600000e+03 1.98700000e+03\n",
            " 1.98800000e+03 1.98900000e+03 1.99000000e+03 1.99100000e+03\n",
            " 1.99200000e+03 1.99300000e+03 1.99400000e+03 1.99500000e+03\n",
            " 1.99600000e+03 1.99700000e+03 1.99800000e+03 1.99900000e+03\n",
            " 2.00000000e+03 2.00100000e+03 2.00200000e+03 2.00300000e+03\n",
            " 2.00400000e+03 2.00500000e+03 2.00600000e+03 2.00700000e+03\n",
            " 2.00800000e+03 2.00900000e+03 2.01000000e+03 2.01100000e+03\n",
            " 2.01200000e+03 2.01300000e+03 2.01400000e+03 2.01500000e+03\n",
            " 2.01600000e+03 2.01700000e+03 2.01800000e+03 3.03201998e+09\n",
            " 3.07307756e+09 3.12606625e+09 3.19118605e+09 3.25670008e+09\n",
            " 3.32362370e+09 3.39369920e+09 3.46314727e+09 3.53353653e+09\n",
            " 3.60823582e+09 3.68367631e+09 3.76130705e+09 3.83772617e+09\n",
            " 3.91321794e+09 3.98938503e+09 4.06380652e+09 4.13639311e+09\n",
            " 4.20877094e+09 4.28234146e+09 4.35779360e+09 4.43402198e+09\n",
            " 4.51226896e+09 4.59345425e+09 4.67536763e+09 4.75699807e+09\n",
            " 4.84015517e+09 4.92580133e+09 5.01357639e+09 5.10229335e+09\n",
            " 5.19096522e+09 5.28134008e+09 5.36921010e+09 5.45339396e+09\n",
            " 5.53844873e+09 5.62257542e+09 5.70753302e+09 5.79045422e+09\n",
            " 5.87307177e+09 5.95481055e+09 6.03528414e+09 6.11510836e+09\n",
            " 6.19446044e+09 6.27352644e+09 6.35267770e+09 6.43237497e+09\n",
            " 6.51260287e+09 6.59362320e+09 6.67513042e+09 6.75788717e+09\n",
            " 6.84059158e+09 6.92294726e+09 7.00401126e+09 7.08699362e+09\n",
            " 7.17096167e+09 7.25565388e+09 7.34054819e+09 7.42610322e+09\n",
            " 7.51099046e+09 7.59427036e+09]\n",
            "[1960.  1960.5 1961.  1961.5 1962.  1962.5 1963.  1963.5 1964.  1964.5\n",
            " 1965.  1965.5 1966.  1966.5 1967.  1967.5 1968.  1968.5 1969.  1969.5\n",
            " 1970.  1970.5 1971.  1971.5 1972.  1972.5 1973.  1973.5 1974.  1974.5\n",
            " 1975.  1975.5 1976.  1976.5 1977.  1977.5 1978.  1978.5 1979.  1979.5\n",
            " 1980.  1980.5 1981.  1981.5 1982.  1982.5 1983.  1983.5 1984.  1984.5\n",
            " 1985.  1985.5 1986.  1986.5 1987.  1987.5 1988.  1988.5 1989.  1989.5\n",
            " 1990.  1990.5 1991.  1991.5 1992.  1992.5 1993.  1993.5 1994.  1994.5\n",
            " 1995.  1995.5 1996.  1996.5 1997.  1997.5 1998.  1998.5 1999.  1999.5\n",
            " 2000.  2000.5 2001.  2001.5 2002.  2002.5 2003.  2003.5 2004.  2004.5\n",
            " 2005.  2005.5 2006.  2006.5 2007.  2007.5 2008.  2008.5 2009.  2009.5\n",
            " 2010.  2010.5 2011.  2011.5 2012.  2012.5 2013.  2013.5 2014.  2014.5\n",
            " 2015.  2015.5 2016.  2016.5 2017.  2017.5 2018.  2018.5]\n"
          ]
        },
        {
          "output_type": "display_data",
          "data": {
            "text/plain": [
              "<Figure size 640x480 with 1 Axes>"
            ],
            "image/png": "[encoded data removed]"
          },
          "metadata": {}
        }
      ]
    },
    {
      "cell_type": "markdown",
      "source": [
        "![image.png](data:image/png;base64,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)"
      ],
      "metadata": {
        "id": "9LI6m2n0djkG"
      }
    },
    {
      "cell_type": "code",
      "source": [
        "from scipy.stats import pearsonr\n",
        "\n",
        "r, p = pearsonr(years, worldpop)\n",
        "print(r,p)\n",
        "\n",
        "\n",
        "def correlation_coefficient(x, y):\n",
        "    mean_x = np.mean(x)\n",
        "    mean_y = np.mean(y)\n",
        "    numerator = np.sum((x - mean_x) * (y - mean_y))\n",
        "    #some help from chatgpt here, broke the denominator into 2\n",
        "    std_x = np.sqrt(np.sum((x - mean_x) ** 2))\n",
        "    std_y = np.sqrt(np.sum((y - mean_y) ** 2))\n",
        "    return numerator / (std_x * std_y)\n",
        "\n",
        "print(correlation_coefficient(years, worldpop))\n"
      ],
      "metadata": {
        "id": "f1gvhi0jbieO",
        "outputId": "52e43fdc-b5f4-4046-f683-d65e5391ad28",
        "colab": {
          "base_uri": "https://localhost:8080/"
        }
      },
      "execution_count": 10,
      "outputs": [
        {
          "output_type": "stream",
          "name": "stdout",
          "text": [
            "0.9348987482423319 5.1504062141329115e-54\n",
            "0.934898748242332\n"
          ]
        }
      ]
    },
    {
      "cell_type": "markdown",
      "metadata": {
        "id": "WH9tOKkEWOXE"
      },
      "source": [
        "*Your answer here.*"
      ]
    },
    {
      "cell_type": "markdown",
      "metadata": {
        "id": "naBGNI48WOXE"
      },
      "source": [
        "***"
      ]
    },
    {
      "cell_type": "markdown",
      "metadata": {
        "id": "8yvCx-q5WOXE"
      },
      "source": [
        "# Hypothesis Testing"
      ]
    },
    {
      "cell_type": "markdown",
      "metadata": {
        "id": "CvyclasfWOXE"
      },
      "source": [
        "## <font color=#30a64d>Question</font>"
      ]
    },
    {
      "cell_type": "markdown",
      "metadata": {
        "id": "MV040ZzYWOXE"
      },
      "source": [
        "A company releases a new ski wax that it claims (naturally) is superior to its rivals, and greatly reduces the friction between skis and snow. A skiing magazine decides to test the claim by performing an experiment. They take 10 pairs of skis, and treat one ski from each pair -- the left one -- with the new wax, and the other (the right) ski with the wax from a competing brand. Each pair of skis are then released from the top of a ramp in turn, and they record which of the two skis reach the bottom of the ramp first.    The team find that the new skis win 8 of the 10 races.  Is their claim correct?"
      ]
    },
    {
      "cell_type": "markdown",
      "metadata": {
        "id": "pKpFT36oWOXE"
      },
      "source": [
        "### Answer"
      ]
    },
    {
      "cell_type": "markdown",
      "metadata": {
        "id": "BSUN4Ti0WOXE"
      },
      "source": [
        "*Your answer here.*"
      ]
    },
    {
      "cell_type": "markdown",
      "metadata": {
        "id": "zw9PkeOcWOXF"
      },
      "source": [
        "***"
      ]
    }
  ],
  "metadata": {
    "kernelspec": {
      "display_name": "Python 3 (ipykernel)",
      "language": "python",
      "name": "python3"
    },
    "language_info": {
      "codemirror_mode": {
        "name": "ipython",
        "version": 3
      },
      "file_extension": ".py",
      "mimetype": "text/x-python",
      "name": "python",
      "nbconvert_exporter": "python",
      "pygments_lexer": "ipython3",
      "version": "3.9.13"
    },
    "colab": {
      "provenance": []
    }
  },
  "nbformat": 4,
  "nbformat_minor": 0
}