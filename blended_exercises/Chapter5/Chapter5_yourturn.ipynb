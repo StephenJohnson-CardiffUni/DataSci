{
  "cells": [
    {
      "cell_type": "markdown",
      "metadata": {
        "id": "wz9xHbn3SnGt"
      },
      "source": [
        "# To be completed at the Live Session and in your own time.\n",
        "\n",
        "These set of examples we will help you get familiar with non parametric tests and correlations within a Jupyter notebook.   The questions coloured green are important practice for CA, particularly Question 5.\n",
        "\n",
        "Before attempting these examples, please ensure you have read through [Chapter 5 Jupyter Notebook](https://github.com/haleygomez/Data-Science-2024/blob/main/blended_exercises/Chapter5/Chapter5.ipynb) and have completed the Learning Central **Chapter 5 quiz**."
      ]
    },
    {
      "cell_type": "markdown",
      "metadata": {
        "id": "u7sLh7SESnGu"
      },
      "source": [
        "***"
      ]
    },
    {
      "cell_type": "markdown",
      "metadata": {
        "id": "Y25D25zzSnGv"
      },
      "source": [
        "#  Hypothesis Testing"
      ]
    },
    {
      "cell_type": "markdown",
      "metadata": {
        "id": "X2VtqNOmSnGv"
      },
      "source": [
        "## <font color=#30a64d>Question</font>"
      ]
    },
    {
      "cell_type": "markdown",
      "metadata": {
        "id": "kcQ6q9TKSnGv"
      },
      "source": [
        "In the previous week, we used the datafile [worldpopulation.txt](https://github.com/haleygomez/Data-Science-2024/raw/main/blended_exercises/Chapter4/worldpopulation.txt) to estimate the correlation between the world population size measured over time.\n",
        "\n",
        "1. Measure the correlation coefficient using the in built Python package for the Spearman $\\rho$ statistic.\n",
        "\n",
        "2. Measure it again but this time creating the functions to calculate $\\rho$ from scratch.   You can use the in-built function to rank datasets from scipy.stats: `from scipy.stats import rankdata`."
      ]
    },
    {
      "cell_type": "markdown",
      "metadata": {
        "id": "dzGT8s2sSnGv"
      },
      "source": [
        "### Answer"
      ]
    },
    {
      "cell_type": "code",
      "source": [
        "#Built in\n",
        "from scipy.stats import spearmanr\n",
        "import numpy as np\n",
        "import matplotlib.pyplot as plt\n",
        "\n",
        "worldpops = np.loadtxt(\"worldpopulation.txt\", delimiter=\" \")\n",
        "'''\n",
        "worldpops[0] = year\n",
        "worldpops[1] = pops\n",
        "'''\n",
        "\n",
        "# plt.plot(worldpops[0], worldpops[1])\n",
        "# plt.xlabel(\"Years\")\n",
        "# plt.ylabel(\"Population\")\n",
        "# plt.show()\n",
        "\n",
        "corr_spearman, p_spearman =  spearmanr(worldpops[0],worldpops[1])\n",
        "\n",
        "print(corr_spearman)"
      ],
      "metadata": {
        "id": "6noRhnAbTRrB",
        "outputId": "39ce6d50-5d7a-45e4-9887-14db10f37b0a",
        "colab": {
          "base_uri": "https://localhost:8080/"
        }
      },
      "execution_count": 7,
      "outputs": [
        {
          "output_type": "stream",
          "name": "stdout",
          "text": [
            "1.0\n"
          ]
        }
      ]
    },
    {
      "cell_type": "markdown",
      "source": [
        "![image.png](data:image/png;base64,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)"
      ],
      "metadata": {
        "id": "aWIBnBcHVy46"
      }
    },
    {
      "cell_type": "code",
      "source": [
        "#Make my own Spearman,\n",
        "#after inspecting data - there are no duplicates so can use condensed form\n",
        "from scipy.stats import rankdata\n",
        "def spearman(x,y):\n",
        "    x_rank = rankdata(x)\n",
        "    y_rank = rankdata(y)\n",
        "    n = len(x)\n",
        "    s = 0\n",
        "    for i in range(n):\n",
        "        s += (x_rank[i] - y_rank[i])**2\n",
        "    return 1 - (s / (n*((n**2) - 1)))\n",
        ""
      ],
      "metadata": {
        "id": "J_wum0kUUp49"
      },
      "execution_count": 9,
      "outputs": []
    },
    {
      "cell_type": "code",
      "source": [
        "print(spearman(worldpops[0],worldpops[1]))\n"
      ],
      "metadata": {
        "id": "qv8W-ya2Vcld",
        "outputId": "52948e24-5345-4c83-e23c-6982e0635745",
        "colab": {
          "base_uri": "https://localhost:8080/"
        }
      },
      "execution_count": 10,
      "outputs": [
        {
          "output_type": "stream",
          "name": "stdout",
          "text": [
            "1.0\n"
          ]
        }
      ]
    },
    {
      "cell_type": "markdown",
      "metadata": {
        "id": "2-dF0ZNrSnGv"
      },
      "source": [
        "*Your answer here.*"
      ]
    },
    {
      "cell_type": "markdown",
      "metadata": {
        "id": "H2ETqIiaSnGv"
      },
      "source": [
        "***"
      ]
    },
    {
      "cell_type": "markdown",
      "metadata": {
        "id": "wDWZrSkmSnGv"
      },
      "source": [
        "# KS Test"
      ]
    },
    {
      "cell_type": "markdown",
      "metadata": {
        "id": "lDhexbPhSnGw"
      },
      "source": [
        "## Question"
      ]
    },
    {
      "cell_type": "markdown",
      "metadata": {
        "id": "llJKJIpaSnGw"
      },
      "source": [
        "Two near-by apple trees are in bloom in an otherwise empty field. One is a Whitney Crab the other is a Redwell. We want to test if bees prefer one tree to the other.\n",
        "\n",
        "To do this we collect data. We use a stop watch to time how long a bee stays near a particular tree. We begin to time when the bee touches the tree, we stop timing when the bee is more than a metre from the tree. Unfortunately we did not get exactly the same number of bees for each tree as it started to rain.   The data is below (time is in seconds). Can we conclude anything based on our experiment?\n",
        "\n",
        "redwell= 23.4, 30.9, 18.8, 23.0, 21.4, 1, 24.6, 23.8, 24.1, 18.7, 16.3, 20.3, 14.9, 35.4, 21.6, 21.2, 21.0, 15.0, 15.6, 24.0, 34.6, 40.9, 30.7, 24.5, 16.6, 1, 21.7, 1, 23.6, 1, 25.7, 19.3, 46.9, 23.3, 21.8, 33.3, 24.9, 24.4, 1, 19.8, 17.2, 21.5, 25.5, 23.3, 18.6, 22.0, 29.8, 33.3, 1, 21.3, 18.6, 26.8, 19.4, 21.1, 21.2, 20.5, 19.8, 26.3, 39.3, 21.4, 22.6, 1, 35.3, 7.0, 19.3, 21.3, 10.1, 20.2, 1, 36.2, 16.7, 21.1, 39.1, 19.9, 32.1, 23.1, 21.8, 30.4, 19.62, 15.5\n",
        "\n",
        "whitney=16.5, 1, 22.6, 25.3, 23.7, 1, 23.3, 23.9, 16.2, 23.0, 21.6, 10.8, 12.2, 23.6, 10.1, 24.4, 16.4, 11.7, 17.7, 34.3, 24.3, 18.7, 27.5, 25.8, 22.5, 14.2, 21.7, 1, 31.2, 13.8, 29.7, 23.1, 26.1, 25.1, 23.4, 21.7, 24.4, 13.2, 22.1, 26.7, 22.7, 1, 18.2, 28.7, 29.1, 27.4, 22.3, 13.2, 22.5, 25.0, 1, 6.6, 23.7, 23.5, 17.3, 24.6, 27.8, 29.7, 25.3, 19.9, 18.2, 26.2, 20.4, 23.3, 26.7, 26.0, 1, 25.1, 33.1, 35.0, 25.3, 23.6, 23.2, 20.2, 24.7, 22.6, 39.1, 26.5, 22.7"
      ]
    },
    {
      "cell_type": "markdown",
      "metadata": {
        "id": "_rnuCyjJSnGw"
      },
      "source": [
        "### Answer"
      ]
    },
    {
      "cell_type": "markdown",
      "metadata": {
        "id": "Fsliu-fiSnGw"
      },
      "source": [
        "*Your answer here.*"
      ]
    },
    {
      "cell_type": "markdown",
      "metadata": {
        "id": "WZr3f0T3SnGw"
      },
      "source": [
        "***"
      ]
    },
    {
      "cell_type": "markdown",
      "metadata": {
        "id": "UEs1tfZxSnGw"
      },
      "source": [
        "# Chi-square test"
      ]
    },
    {
      "cell_type": "markdown",
      "metadata": {
        "id": "90GamEKPSnGw"
      },
      "source": [
        "## Question"
      ]
    },
    {
      "cell_type": "markdown",
      "metadata": {
        "id": "rWVNhy8uSnGx"
      },
      "source": [
        "You publish flyers for an event in three different colours and want to test whether the colour has a significant affect on whether people take them. The data is available below.  Use the $\\chi^2$ test to do this, and calculate the probability of the significance of the result.\n",
        "\n",
        "| |white | light blue | neon pink | Totals|\n",
        "|---|---|---|---|---|\n",
        "|Take | 32| 38 | 20| 90|\n",
        "|Don't take | 8| 22 |30 | 60|\n",
        "|Totals | 40|60 | 50| 150|"
      ]
    },
    {
      "cell_type": "markdown",
      "metadata": {
        "id": "O4oEEgkWSnGx"
      },
      "source": [
        "### Answer"
      ]
    },
    {
      "cell_type": "markdown",
      "metadata": {
        "id": "VUgjaB8rSnGx"
      },
      "source": [
        "*Your answer here.*"
      ]
    },
    {
      "cell_type": "markdown",
      "metadata": {
        "id": "bs1GqG92SnGx"
      },
      "source": [
        "***"
      ]
    }
  ],
  "metadata": {
    "kernelspec": {
      "display_name": "Python 3 (ipykernel)",
      "language": "python",
      "name": "python3"
    },
    "language_info": {
      "codemirror_mode": {
        "name": "ipython",
        "version": 3
      },
      "file_extension": ".py",
      "mimetype": "text/x-python",
      "name": "python",
      "nbconvert_exporter": "python",
      "pygments_lexer": "ipython3",
      "version": "3.9.13"
    },
    "colab": {
      "provenance": []
    }
  },
  "nbformat": 4,
  "nbformat_minor": 0
}